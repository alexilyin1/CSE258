{
 "cells": [
  {
   "cell_type": "markdown",
   "metadata": {},
   "source": [
    "# Homework 3 - Alexander Ilyin CSE 258"
   ]
  },
  {
   "cell_type": "markdown",
   "metadata": {},
   "source": [
    "# Read Prediction"
   ]
  },
  {
   "cell_type": "code",
   "execution_count": 13,
   "metadata": {},
   "outputs": [],
   "source": [
    "import pandas as pd\n",
    "import numpy\n",
    "import warnings\n",
    "import gzip\n",
    "import random\n",
    "import matplotlib.pyplot as plt\n",
    "\n",
    "from collections import defaultdict\n",
    "from math import sqrt\n",
    "\n",
    "warnings.filterwarnings(\"ignore\")\n",
    "\n",
    "\n",
    "def readCSV(path):\n",
    "    f = gzip.open(path, \"rt\")\n",
    "    f.readline()\n",
    "    for l in f:\n",
    "        yield l.strip().split(\",\")\n",
    "\n",
    "\n",
    "X = []\n",
    "y = []\n",
    "data = pd.read_csv(\"train_Interactions.csv.gz\")\n",
    "for i in range(len(data)):\n",
    "    X.extend([[data[\"userID\"][i], data[\"bookID\"][i]]])\n",
    "    y.append(1)\n",
    "\n",
    "X_train = X[:190000]\n",
    "y_train = y[:190000]\n",
    "X_val = X[190000:200000]\n",
    "y_val = y[190000:200000]"
   ]
  },
  {
   "cell_type": "markdown",
   "metadata": {},
   "source": [
    "#### Question 1: Create \"negative\" entries for books that users haven't read"
   ]
  },
  {
   "cell_type": "code",
   "execution_count": 14,
   "metadata": {},
   "outputs": [],
   "source": [
    "usersPerItem = defaultdict(set)\n",
    "itemsPerUser = defaultdict(set)\n",
    "all_books = set([x[1] for x in X])\n",
    "\n",
    "for x in X:\n",
    "    u, i = x[0], x[1]\n",
    "    usersPerItem[i].add(u)\n",
    "    itemsPerUser[u].add(i)\n",
    "\n",
    "for x in range(len(X_val)):\n",
    "    user = X_val[x][0]\n",
    "    unread_books = list(all_books.difference(itemsPerUser[user]))\n",
    "    choice = unread_books[random.randint(0, len(unread_books) - 1)]\n",
    "    X_val.extend([[X_val[x][0], choice]])\n",
    "    y_val.append(0)"
   ]
  },
  {
   "cell_type": "code",
   "execution_count": 15,
   "metadata": {},
   "outputs": [
    {
     "name": "stdout",
     "output_type": "stream",
     "text": [
      "The accuracy of the baseline model is 0.64555\n"
     ]
    }
   ],
   "source": [
    "bookCount = defaultdict(int)\n",
    "totalRead = 0\n",
    "\n",
    "for x in range(len(X_train)):\n",
    "    bookCount[X_train[x][1]] += 1\n",
    "    totalRead += 1\n",
    "\n",
    "mostPopular = [(bookCount[x], x) for x in bookCount]\n",
    "mostPopular.sort()\n",
    "mostPopular.reverse()\n",
    "\n",
    "return1 = set()\n",
    "count = 0\n",
    "for ic, i in mostPopular:\n",
    "    count += ic\n",
    "    return1.add(i)\n",
    "    if count > totalRead / 2:\n",
    "        break\n",
    "\n",
    "predictions = open(\"predictions_Read_question1.txt\", \"w\")\n",
    "for l in range(len(X_val)):\n",
    "    u = X_val[l][0]\n",
    "    b = X_val[l][1]\n",
    "    if b in return1:\n",
    "        predictions.write(u + \"-\" + b + \",1\\n\")\n",
    "    else:\n",
    "        predictions.write(u + \"-\" + b + \",0\\n\")\n",
    "\n",
    "predictions.close()\n",
    "\n",
    "predictions = open(\"predictions_Read_question1.txt\", \"r\")\n",
    "predictions_array = []\n",
    "for l in predictions.readlines():\n",
    "    predictions_array = numpy.append(predictions_array, l[20])\n",
    "\n",
    "y_actual = []\n",
    "y_actual = numpy.append(y_actual, y_val)\n",
    "correctPredictions = 0\n",
    "\n",
    "for x in range(len(predictions_array)):\n",
    "    if numpy.array_equal(predictions_array[x], str(int(y_actual[x]))):\n",
    "        correctPredictions = correctPredictions + 1\n",
    "\n",
    "accuracy = correctPredictions / len(predictions_array)\n",
    "print(f\"The accuracy of the baseline model is {accuracy}\")"
   ]
  },
  {
   "cell_type": "markdown",
   "metadata": {},
   "source": [
    "#### Question 2: Improve Baseline Model"
   ]
  },
  {
   "cell_type": "code",
   "execution_count": 311,
   "metadata": {},
   "outputs": [],
   "source": [
    "bookCount = defaultdict(int)\n",
    "totalRead = 0\n",
    "\n",
    "for x in range(len(X)):\n",
    "    bookCount[X[x][1]] += 1\n",
    "    totalRead += 1\n",
    "\n",
    "mostPopular = [(bookCount[x], x) for x in bookCount]\n",
    "mostPopular.sort()\n",
    "mostPopular.reverse()\n",
    "\n",
    "threshold_list = []\n",
    "accuracy_list = []\n",
    "for threshold in range(0, totalRead, 50000):\n",
    "    return1 = set()\n",
    "    count = 0\n",
    "    for ic, i in mostPopular:\n",
    "        count += ic\n",
    "        return1.add(i)\n",
    "        if count > threshold:\n",
    "            break\n",
    "\n",
    "    predictions = open(\"predictions_Read_question2.txt\", \"w\")\n",
    "    for l in range(len(X_val)):\n",
    "        u = X_val[l][0]\n",
    "        b = X_val[l][1]\n",
    "        if b in return1:\n",
    "            predictions.write(u + \"-\" + b + \",1\\n\")\n",
    "        else:\n",
    "            predictions.write(u + \"-\" + b + \",0\\n\")\n",
    "\n",
    "    predictions.close()\n",
    "\n",
    "    predictions = open(\"predictions_Read_question2.txt\", \"r\")\n",
    "    predictions_array = []\n",
    "    for l in predictions.readlines():\n",
    "        l.strip(\"\\n\")\n",
    "        predictions_array = numpy.append(predictions_array, l[20])\n",
    "\n",
    "    y_actual = []\n",
    "    y_actual = numpy.append(y_actual, y_val)\n",
    "    correctPredictions = 0\n",
    "\n",
    "    for x in range(len(predictions_array)):\n",
    "        if predictions_array[x] == str(int(y_actual[x])):\n",
    "            correctPredictions += 1\n",
    "\n",
    "    threshold_list.append(threshold)\n",
    "    accuracy = correctPredictions / len(predictions_array)\n",
    "    accuracy_list.append(accuracy)"
   ]
  },
  {
   "cell_type": "code",
   "execution_count": 312,
   "metadata": {},
   "outputs": [
    {
     "data": {
      "text/plain": [
       "Text(0, 0.5, 'Accuracy')"
      ]
     },
     "execution_count": 312,
     "metadata": {},
     "output_type": "execute_result"
    },
    {
     "data": {
      "image/png": "[encoded data removed]",
      "text/plain": [
       "<Figure size 432x288 with 1 Axes>"
      ]
     },
     "metadata": {
      "needs_background": "light"
     },
     "output_type": "display_data"
    }
   ],
   "source": [
    "accuracy_threshold = pd.DataFrame(\n",
    "    list(zip(threshold_list, accuracy_list)), columns=[\"threshold\", \"accuracy\"]\n",
    ")\n",
    "plt.plot(\"threshold\", \"accuracy\", data=accuracy_threshold)\n",
    "plt.xlabel(\"Threshold\")\n",
    "plt.ylabel(\"Accuracy\")"
   ]
  },
  {
   "cell_type": "code",
   "execution_count": 313,
   "metadata": {},
   "outputs": [
    {
     "data": {
      "text/plain": [
       "threshold    100000.0000\n",
       "accuracy          0.6541\n",
       "Name: 2, dtype: float64"
      ]
     },
     "execution_count": 313,
     "metadata": {},
     "output_type": "execute_result"
    }
   ],
   "source": [
    "accuracy_threshold.loc[accuracy_threshold[\"accuracy\"].idxmax()]"
   ]
  },
  {
   "cell_type": "code",
   "execution_count": 316,
   "metadata": {},
   "outputs": [
    {
     "name": "stdout",
     "output_type": "stream",
     "text": [
      "Accuracy for the improved threshold is 0.6596\n"
     ]
    }
   ],
   "source": [
    "return1 = set()\n",
    "count = 0\n",
    "for ic, i in mostPopular:\n",
    "    count += ic\n",
    "    return1.add(i)\n",
    "    if count > 114500:\n",
    "        break\n",
    "\n",
    "predictions = open(\"predictions_Read_question2.txt\", \"w\")\n",
    "for l in range(len(X_val)):\n",
    "    u = X_val[l][0]\n",
    "    b = X_val[l][1]\n",
    "    if b in return1:\n",
    "        predictions.write(u + \"-\" + b + \",1\\n\")\n",
    "    else:\n",
    "        predictions.write(u + \"-\" + b + \",0\\n\")\n",
    "\n",
    "predictions.close()\n",
    "\n",
    "predictions = open(\"predictions_Read_question2.txt\", \"r\")\n",
    "predictions_array = []\n",
    "for l in predictions.readlines():\n",
    "    l.strip(\"\\n\")\n",
    "    predictions_array = numpy.append(predictions_array, l[20])\n",
    "\n",
    "y_actual = []\n",
    "y_actual = numpy.append(y_actual, y_val)\n",
    "correctPredictions = 0\n",
    "\n",
    "for x in range(len(predictions_array)):\n",
    "    if predictions_array[x] == str(int(y_actual[x])):\n",
    "        correctPredictions += 1\n",
    "\n",
    "accuracy = correctPredictions / len(predictions_array)\n",
    "print(f\"Accuracy for the improved threshold is {accuracy}\")"
   ]
  },
  {
   "cell_type": "markdown",
   "metadata": {},
   "source": [
    "From the code snippet above, we can see that the threshold of 114,500 gives us the best accuracy, based on the parameter tuning pipeline created above\n",
    "\n",
    "\n",
    "Note: Does not match the above value, this is because I ran a code that took a very long time to run and simply recorded the answer, I then run a smaller loop to make re-running the code faster"
   ]
  },
  {
   "cell_type": "code",
   "execution_count": null,
   "metadata": {},
   "outputs": [],
   "source": [
    "bookCount = defaultdict(int)\n",
    "totalRead = 0\n",
    "\n",
    "for x in range(len(X)):\n",
    "    bookCount[X[x][1]] += 1\n",
    "    totalRead += 1\n",
    "\n",
    "mostPopular = [(bookCount[x], x) for x in bookCount]\n",
    "mostPopular.sort()\n",
    "mostPopular.reverse()\n",
    "\n",
    "return1 = set()\n",
    "count = 0\n",
    "for ic, i in mostPopular:\n",
    "    count += ic\n",
    "    return1.add(i)\n",
    "    if count > 114500:\n",
    "        break\n",
    "\n",
    "predictions = open(\"predictions_Read_kaggleq1.txt\", \"w\")\n",
    "for l in open(\"pairs_Read.txt\"):\n",
    "    if l.startswith(\"userID\"):\n",
    "        # header\n",
    "        predictions.write(l)\n",
    "        continue\n",
    "    u, b = l.strip().split(\"-\")\n",
    "    if b in return1:\n",
    "        predictions.write(u + \"-\" + b + \",1\\n\")\n",
    "    else:\n",
    "        predictions.write(u + \"-\" + b + \",0\\n\")\n",
    "predictions.close()"
   ]
  },
  {
   "cell_type": "markdown",
   "metadata": {},
   "source": [
    "#### Question 3: Jaccard Similarity"
   ]
  },
  {
   "cell_type": "code",
   "execution_count": 317,
   "metadata": {},
   "outputs": [],
   "source": [
    "usersPerItem = defaultdict(set)\n",
    "itemsPerUser = defaultdict(set)\n",
    "\n",
    "for x in X_train:\n",
    "    u, i = x[0], x[1]\n",
    "    usersPerItem[i].add(u)\n",
    "    itemsPerUser[u].add(i)\n",
    "\n",
    "\n",
    "def Jaccard(s1, s2):\n",
    "    numer = len(s1.intersection(s2))\n",
    "    denom = len(s1.union(s2))\n",
    "    return numer / denom\n",
    "\n",
    "\n",
    "def mostSimilar(u, b):\n",
    "    similarities = []\n",
    "    books = set(itemsPerUser[u])\n",
    "    for book in books:\n",
    "        sim = Jaccard(usersPerItem[b], usersPerItem[book])\n",
    "        similarities.append((sim, book))\n",
    "    similarities.sort(reverse=True)\n",
    "    return similarities[:10]\n",
    "\n",
    "\n",
    "predictions = open(\"predictions_Read_question3.txt\", \"w\")\n",
    "for l in range(len(X_val)):\n",
    "    if mostSimilar(X_val[l][0], X_val[l][1]):\n",
    "        if max(mostSimilar(X_val[l][0], X_val[l][1]))[0] > 0.008:\n",
    "            predictions.write(X_val[l][0] + \"-\" + X_val[l][1] + \",1\\n\")\n",
    "        else:\n",
    "            predictions.write(X_val[l][0] + \"-\" + X_val[l][1] + \",0\\n\")\n",
    "    else:\n",
    "        predictions.write(X_val[l][0] + \"-\" + X_val[l][1] + \",0\\n\")\n",
    "predictions.close()"
   ]
  },
  {
   "cell_type": "code",
   "execution_count": 318,
   "metadata": {},
   "outputs": [
    {
     "name": "stdout",
     "output_type": "stream",
     "text": [
      "The accuracy of the Jaccard similarity baseline model is 0.61945\n"
     ]
    }
   ],
   "source": [
    "predictions = open(\"predictions_Read_question3.txt\", \"r\")\n",
    "predictions_array = []\n",
    "for l in predictions.readlines():\n",
    "    l.strip(\"\\n\")\n",
    "    predictions_array = numpy.append(predictions_array, l[20])\n",
    "\n",
    "y_actual = []\n",
    "y_actual = numpy.append(y_actual, y_val)\n",
    "correctPredictions = 0\n",
    "\n",
    "for x in range(len(predictions_array)):\n",
    "    if predictions_array[x] == str(int(y_actual[x])):\n",
    "        correctPredictions += 1\n",
    "\n",
    "accuracy = correctPredictions / len(predictions_array)\n",
    "print(f\"The accuracy of the Jaccard similarity baseline model is {accuracy}\")"
   ]
  },
  {
   "cell_type": "code",
   "execution_count": 319,
   "metadata": {},
   "outputs": [],
   "source": [
    "usersPerItem = defaultdict(set)\n",
    "itemsPerUser = defaultdict(set)\n",
    "\n",
    "for x in X_train:\n",
    "    u, i = x[0], x[1]\n",
    "    usersPerItem[i].add(u)\n",
    "    itemsPerUser[u].add(i)\n",
    "\n",
    "\n",
    "def Jaccard(s1, s2):\n",
    "    numer = len(s1.intersection(s2))\n",
    "    denom = len(s1.union(s2))\n",
    "    return numer / denom\n",
    "\n",
    "\n",
    "def mostSimilar(u, b):\n",
    "    similarities = []\n",
    "    books = set(itemsPerUser[u])\n",
    "    for book in books:\n",
    "        sim = Jaccard(usersPerItem[b], usersPerItem[book])\n",
    "        similarities.append((sim, book))\n",
    "    similarities.sort(reverse=True)\n",
    "    return similarities[:10]\n",
    "\n",
    "\n",
    "threshold_list = []\n",
    "accuracy_list = []\n",
    "for threshold in numpy.arange(0, 0.05, 0.01):\n",
    "    predictions = open(\"predictions_Read_question3.txt\", \"w\")\n",
    "    for l in range(len(X_val)):\n",
    "        if mostSimilar(X_val[l][0], X_val[l][1]):\n",
    "            if max(mostSimilar(X_val[l][0], X_val[l][1]))[0] > threshold:\n",
    "                predictions.write(X_val[l][0] + \"-\" + X_val[l][1] + \",1\\n\")\n",
    "            else:\n",
    "                predictions.write(X_val[l][0] + \"-\" + X_val[l][1] + \",0\\n\")\n",
    "        else:\n",
    "            predictions.write(X_val[l][0] + \"-\" + X_val[l][1] + \",0\\n\")\n",
    "    predictions.close()\n",
    "    predictions = open(\"predictions_Read_question3.txt\", \"r\")\n",
    "    predictions_array = []\n",
    "    for l in predictions.readlines():\n",
    "        l.strip(\"\\n\")\n",
    "        predictions_array = numpy.append(predictions_array, l[20])\n",
    "\n",
    "    y_actual = []\n",
    "    y_actual = numpy.append(y_actual, y_val)\n",
    "    correctPredictions = 0\n",
    "\n",
    "    for x in range(len(predictions_array)):\n",
    "        if predictions_array[x] == str(int(y_actual[x])):\n",
    "            correctPredictions += 1\n",
    "\n",
    "    threshold_list.append(threshold)\n",
    "    accuracy_list.append(accuracy)\n",
    "    accuracy = correctPredictions / len(predictions_array)"
   ]
  },
  {
   "cell_type": "code",
   "execution_count": 320,
   "metadata": {},
   "outputs": [
    {
     "data": {
      "text/plain": [
       "Text(0, 0.5, 'Accuracy')"
      ]
     },
     "execution_count": 320,
     "metadata": {},
     "output_type": "execute_result"
    },
    {
     "data": {
      "image/png": "[encoded data removed]",
      "text/plain": [
       "<Figure size 432x288 with 1 Axes>"
      ]
     },
     "metadata": {
      "needs_background": "light"
     },
     "output_type": "display_data"
    }
   ],
   "source": [
    "threshold_accuracy_jaccard = pd.DataFrame(\n",
    "    list(zip(threshold_list, accuracy_list)), columns=[\"threshold\", \"accuracy\"]\n",
    ")\n",
    "plt.plot(\"threshold\", \"accuracy\", data=threshold_accuracy_jaccard)\n",
    "plt.xlabel(\"Threshold\")\n",
    "plt.ylabel(\"Accuracy\")"
   ]
  },
  {
   "cell_type": "code",
   "execution_count": 321,
   "metadata": {},
   "outputs": [
    {
     "data": {
      "text/plain": [
       "threshold    0.020\n",
       "accuracy     0.625\n",
       "Name: 2, dtype: float64"
      ]
     },
     "execution_count": 321,
     "metadata": {},
     "output_type": "execute_result"
    }
   ],
   "source": [
    "threshold_accuracy_jaccard.loc[threshold_accuracy_jaccard[\"accuracy\"].idxmax()]"
   ]
  },
  {
   "cell_type": "markdown",
   "metadata": {},
   "source": [
    "The code chunk above tells us that the Jaccard similarity threshold of .012 gives us the best accuracy. \n",
    "\n",
    "Note that this may not match the printed value above, as I changed the loop to a shorter run time. The value above was calculated from a longer, more exact loop"
   ]
  },
  {
   "cell_type": "code",
   "execution_count": 322,
   "metadata": {},
   "outputs": [],
   "source": [
    "usersPerItem = defaultdict(set)\n",
    "itemsPerUser = defaultdict(set)\n",
    "\n",
    "for x in X_train:\n",
    "    u, i = x[0], x[1]\n",
    "    usersPerItem[i].add(u)\n",
    "    itemsPerUser[u].add(i)\n",
    "\n",
    "\n",
    "def Jaccard(s1, s2):\n",
    "    numer = len(s1.intersection(s2))\n",
    "    denom = len(s1.union(s2))\n",
    "    return numer / denom\n",
    "\n",
    "\n",
    "def mostSimilar(u, b):\n",
    "    similarities = []\n",
    "    books = set(itemsPerUser[u])\n",
    "    for book in books:\n",
    "        sim = Jaccard(usersPerItem[b], usersPerItem[book])\n",
    "        similarities.append((sim, book))\n",
    "    similarities.sort(reverse=True)\n",
    "    return similarities[:10]\n",
    "\n",
    "\n",
    "predictions = open(\"predictions_Read_kaggleq3.txt\", \"w\")\n",
    "for l in open(\"pairs_Read.txt\"):\n",
    "    if l.startswith(\"userID\"):\n",
    "        # header\n",
    "        predictions.write(l)\n",
    "        continue\n",
    "    u, b = l.strip().split(\"-\")\n",
    "    if mostSimilar(u, b):\n",
    "        if max(mostSimilar(u, b))[0] > 0.0120:\n",
    "            predictions.write(u + \"-\" + b + \",1\\n\")\n",
    "        else:\n",
    "            predictions.write(u + \"-\" + b + \",0\\n\")\n",
    "    else:\n",
    "        predictions.write(u + \"-\" + b + \",0\\n\")\n",
    "predictions.close()"
   ]
  },
  {
   "cell_type": "code",
   "execution_count": 40,
   "metadata": {},
   "outputs": [
    {
     "name": "stdout",
     "output_type": "stream",
     "text": [
      "The accuracy of the Jaccard and popularity baseline model is 0.64835\n"
     ]
    }
   ],
   "source": [
    "usersPerItem = defaultdict(set)\n",
    "itemsPerUser = defaultdict(set)\n",
    "\n",
    "for x in X_train:\n",
    "    u, i = x[0], x[1]\n",
    "    usersPerItem[i].add(u)\n",
    "    itemsPerUser[u].add(i)\n",
    "\n",
    "def cosim(set1, set2):\n",
    "    numer = set1.intersection(set2)\n",
    "    numer = len(numer)\n",
    "    denom = len(set1) * len(set2)\n",
    "    if denom == 0:\n",
    "        return 0\n",
    "    else:\n",
    "        sim = numer / denom\n",
    "        return(sim)\n",
    "\n",
    "def mostSimilarCosine(u, b):\n",
    "    similarities = []\n",
    "    books = set(itemsPerUser[u])\n",
    "    for book in books:\n",
    "        sim = cosim(set(usersPerItem[b]), set(usersPerItem[book]))\n",
    "        similarities.append(sim)\n",
    "    similarities.sort(reverse=True)\n",
    "    return(similarities)\n",
    "    \n",
    "predictions = open(\"predictions_Read_question4.txt\", \"w\")\n",
    "for l in range(len(X_val)):\n",
    "    u = X_val[l][0]\n",
    "    b = X_val[l][1]\n",
    "    if mostSimilarCosine(u, b):\n",
    "        if b in return1 or mostSimilarCosine(u, b)[0] > 0.005:\n",
    "            predictions.write(u + \"-\" + b + \",1\\n\")\n",
    "        else:\n",
    "            predictions.write(u + \"-\" + b + \",0\\n\")\n",
    "    elif b in return1:\n",
    "        predictions.write(u + \"-\" + b + \",1\\n\")\n",
    "    else:\n",
    "        predictions.write(u + \"-\" + b + \",0\\n\")\n",
    "predictions.close()\n",
    "\n",
    "predictions = open(\"predictions_Read_question4.txt\", \"r\")\n",
    "predictions_array = []\n",
    "for l in predictions.readlines():\n",
    "    l.strip(\"\\n\")\n",
    "    predictions_array = numpy.append(predictions_array, l[20])\n",
    "\n",
    "y_actual = []\n",
    "y_actual = numpy.append(y_actual, y_val)\n",
    "correctPredictions = 0\n",
    "\n",
    "for x in range(len(predictions_array)):\n",
    "    if predictions_array[x] == str(int(y_actual[x])):\n",
    "        correctPredictions += 1\n",
    "\n",
    "accuracy = correctPredictions / len(predictions_array)\n",
    "print(f\"The accuracy of the Jaccard and popularity baseline model is {accuracy}\")"
   ]
  },
  {
   "cell_type": "code",
   "execution_count": null,
   "metadata": {},
   "outputs": [],
   "source": [
    "def cosim(set1, set2):\n",
    "    numer = set1.intersection(set2)\n",
    "    numer = len(numer)\n",
    "    denom = len(set1) * len(set2)\n",
    "    if denom == 0:\n",
    "        return 0\n",
    "    else:\n",
    "        sim = numer / denom\n",
    "        return(sim)\n",
    "\n",
    "def mostSimilarCosine(u, b):\n",
    "    similarities = []\n",
    "    books = set(itemsPerUser[u])\n",
    "    for book in books:\n",
    "        sim = cosim(set(usersPerItem[b]), set(usersPerItem[book]))\n",
    "        similarities.append(sim)\n",
    "    similarities.sort(reverse=True)\n",
    "    return(similarities)\n",
    "    \n",
    "accuracy_list = []\n",
    "threshold_list = []\n",
    "for threshold_2 in range(100000, 140000, 10000):\n",
    "    for threshold in numpy.arange(0.02, 0.03, 0.001):\n",
    "        return1 = defaultdict(list)\n",
    "        count = 0\n",
    "        for ic, i in mostPopular:\n",
    "            count += ic\n",
    "            return1[i].append(ic)\n",
    "            if count > threshold_2:\n",
    "                break\n",
    "\n",
    "        predictions = open(\"predictions_Read_question4.txt\", \"w\")\n",
    "        for l in range(len(X_val)):\n",
    "            u = X_val[l][0]\n",
    "            b = X_val[l][1]\n",
    "            if mostSimilarCosine(u, b) and len(return1[b]) > 0:\n",
    "                if return1[b][0] * mostSimilarCosine(u, b)[0] > threshold:\n",
    "                    predictions.write(u + \"-\" + b + \",1\\n\")\n",
    "                else:\n",
    "                    predictions.write(u + \"-\" + b + \",0\\n\")\n",
    "            else:\n",
    "                predictions.write(u + \"-\" + b + \",0\\n\")\n",
    "        predictions.close()\n",
    "\n",
    "        predictions = open(\"predictions_Read_question4.txt\", \"r\")\n",
    "        predictions_array = []\n",
    "        for l in predictions.readlines():\n",
    "            l.strip(\"\\n\")\n",
    "            predictions_array = numpy.append(predictions_array, l[20])\n",
    "\n",
    "        y_actual = []\n",
    "        y_actual = numpy.append(y_actual, y_val)\n",
    "        correctPredictions = 0\n",
    "\n",
    "        for x in range(len(predictions_array)):\n",
    "            if predictions_array[x] == str(int(y_actual[x])):\n",
    "                correctPredictions += 1\n",
    "\n",
    "        accuracy = correctPredictions / len(predictions_array)\n",
    "        print(f\"The accuracy of the Jaccard and popularity baseline model is {accuracy}\")\n",
    "        accuracy_list.append(accuracy)\n",
    "        threshold_list.append((threshold, threshold_2))"
   ]
  },
  {
   "cell_type": "code",
   "execution_count": 381,
   "metadata": {},
   "outputs": [],
   "source": [
    "bookCount = defaultdict(int)\n",
    "totalRead = 0\n",
    "\n",
    "for x in range(len(X)):\n",
    "    bookCount[X[x][1]] += 1\n",
    "    totalRead += 1\n",
    "\n",
    "mostPopular = [(bookCount[x], x) for x in bookCount]\n",
    "mostPopular.sort()\n",
    "mostPopular.reverse()\n",
    "\n",
    "return1 = defaultdict(list)\n",
    "count = 0\n",
    "for ic, i in mostPopular:\n",
    "    count += ic\n",
    "    return1[i].append(ic)\n",
    "    if count > 120000:\n",
    "        break\n",
    "\n",
    "combos = defaultdict(dict)\n",
    "test_list = []\n",
    "for l in open(\"pairs_Read.txt\"):\n",
    "    u, b = l.strip().split(\"-\")\n",
    "    if u == 'userID': continue\n",
    "    if len(return1[b]) > 0:\n",
    "        combos[u][b] = mostSimilarCosine(u,b) * return1[b][0]\n",
    "    else: \n",
    "        combos[u][b] = mostSimilarCosine(u,b)\n",
    "    test_list.append((u, b))"
   ]
  },
  {
   "cell_type": "code",
   "execution_count": 382,
   "metadata": {},
   "outputs": [],
   "source": [
    "for user in combos:\n",
    "    combos[user] = dict(sorted(combos[user].items(), key=lambda x:x[1]))"
   ]
  },
  {
   "cell_type": "code",
   "execution_count": null,
   "metadata": {},
   "outputs": [],
   "source": []
  },
  {
   "cell_type": "code",
   "execution_count": null,
   "metadata": {},
   "outputs": [],
   "source": [
    "combos[u]"
   ]
  },
  {
   "cell_type": "code",
   "execution_count": 375,
   "metadata": {},
   "outputs": [
    {
     "data": {
      "text/plain": [
       "{'b88617544': 0.0,\n",
       " 'b18185034': 0.010869565217391304,\n",
       " 'b57480183': 0.40151515151515155,\n",
       " 'b49930080': 0.5714285714285714}"
      ]
     },
     "execution_count": 375,
     "metadata": {},
     "output_type": "execute_result"
    }
   ],
   "source": [
    "combos[u]"
   ]
  },
  {
   "cell_type": "code",
   "execution_count": 383,
   "metadata": {},
   "outputs": [],
   "source": [
    "predictions = open(\"predictions_Read_question4.txt\", \"w\")\n",
    "for l in open(\"pairs_Read.txt\"):\n",
    "    if l.startswith(\"userID\"):\n",
    "        # header\n",
    "        predictions.write(l)\n",
    "        continue\n",
    "    u, b = l.strip().split(\"-\")\n",
    "    if list(combos[u]).index(b) > (len(combos[u]) / 2):\n",
    "        predictions.write(u + \"-\" + b + \",1\\n\")\n",
    "    else:\n",
    "        predictions.write(u + \"-\" + b + \",0\\n\")\n",
    "predictions.close()"
   ]
  },
  {
   "cell_type": "markdown",
   "metadata": {},
   "source": [
    "#### Question 4: Implementing Jaccard and Popularity Threshold"
   ]
  },
  {
   "cell_type": "code",
   "execution_count": 323,
   "metadata": {},
   "outputs": [],
   "source": [
    "bookCount = defaultdict(int)\n",
    "totalRead = 0\n",
    "\n",
    "for user, book in X:\n",
    "    bookCount[book] += 1\n",
    "    totalRead += 1\n",
    "\n",
    "mostPopular = [(bookCount[x], x) for x in bookCount]\n",
    "mostPopular.sort()\n",
    "mostPopular.reverse()\n",
    "\n",
    "return1 = set()\n",
    "count = 0\n",
    "for ic, i in mostPopular:\n",
    "    count += ic\n",
    "    return1.add(i)\n",
    "    if count > 120000:\n",
    "        break\n",
    "\n",
    "predictions = open(\"predictions_Read_question4.txt\", \"w\")\n",
    "for l in range(len(X_val)):\n",
    "    u = X_val[l][0]\n",
    "    b = X_val[l][1]\n",
    "    if mostSimilar(X_val[l][0], X_val[l][1]):\n",
    "        if b in return1 or max(mostSimilar(X_val[l][0], X_val[l][1]))[0] > 0.0120:\n",
    "            predictions.write(u + \"-\" + b + \",1\\n\")\n",
    "        else:\n",
    "            predictions.write(u + \"-\" + b + \",0\\n\")\n",
    "    elif b in return1:\n",
    "        predictions.write(u + \"-\" + b + \",1\\n\")\n",
    "    else:\n",
    "        predictions.write(u + \"-\" + b + \",0\\n\")\n",
    "predictions.close()"
   ]
  },
  {
   "cell_type": "code",
   "execution_count": 324,
   "metadata": {},
   "outputs": [
    {
     "name": "stdout",
     "output_type": "stream",
     "text": [
      "The accuracy of the Jaccard and popularity baseline model is 0.6312\n"
     ]
    }
   ],
   "source": [
    "predictions = open(\"predictions_Read_question4.txt\", \"r\")\n",
    "predictions_array = []\n",
    "for l in predictions.readlines():\n",
    "    l.strip(\"\\n\")\n",
    "    predictions_array = numpy.append(predictions_array, l[20])\n",
    "\n",
    "y_actual = []\n",
    "y_actual = numpy.append(y_actual, y_val)\n",
    "correctPredictions = 0\n",
    "\n",
    "for x in range(len(predictions_array)):\n",
    "    if predictions_array[x] == str(int(y_actual[x])):\n",
    "        correctPredictions += 1\n",
    "\n",
    "accuracy = correctPredictions / len(predictions_array)\n",
    "print(f\"The accuracy of the Jaccard and popularity baseline model is {accuracy}\")"
   ]
  },
  {
   "cell_type": "markdown",
   "metadata": {},
   "source": [
    "#### Question 5: Making Predictions "
   ]
  },
  {
   "cell_type": "code",
   "execution_count": null,
   "metadata": {},
   "outputs": [],
   "source": [
    "bookCount = defaultdict(int)\n",
    "totalRead = 0\n",
    "\n",
    "for user, book in X:\n",
    "    bookCount[book] += 1\n",
    "    totalRead += 1\n",
    "\n",
    "mostPopular = [(bookCount[x], x) for x in bookCount]\n",
    "mostPopular.sort()\n",
    "mostPopular.reverse()\n",
    "\n",
    "\n",
    "threshold_popular1_list = []\n",
    "threshold_jaccard1_list = []\n",
    "accuracy1_list = []\n",
    "for threshold_popular1 in range(100000, totalRead, 1000):\n",
    "    for threshold_jaccard1 in numpy.arange(0.001, 0.01, 0.0010):\n",
    "\n",
    "        return1 = set()\n",
    "        count = 0\n",
    "        for ic, i in mostPopular:\n",
    "            count += ic\n",
    "            return1.add(i)\n",
    "            if count > threshold_popular1:\n",
    "                break\n",
    "\n",
    "        predictions = open(\"predictions_Read_question4.txt\", \"w\")\n",
    "        for l in range(len(X_val)):\n",
    "            u = X_val[l][0]\n",
    "            b = X_val[l][1]\n",
    "            if mostSimilar(X_val[l][0], X_val[l][1]):\n",
    "                if (\n",
    "                    b in return1\n",
    "                    and max(mostSimilar(X_val[l][0], X_val[l][1]))[0]\n",
    "                    > threshold_jaccard1\n",
    "                ):\n",
    "                    predictions.write(u + \"-\" + b + \",1\\n\")\n",
    "                else:\n",
    "                    predictions.write(u + \"-\" + b + \",0\\n\")\n",
    "            elif b in return1:\n",
    "                predictions.write(u + \"-\" + b + \",1\\n\")\n",
    "            else:\n",
    "                predictions.write(u + \"-\" + b + \",0\\n\")\n",
    "        predictions.close()\n",
    "\n",
    "        predictions = open(\"predictions_Read_question4.txt\", \"r\")\n",
    "        predictions_array = []\n",
    "        for l in predictions.readlines():\n",
    "            l.strip(\"\\n\")\n",
    "            predictions_array = numpy.append(predictions_array, l[20])\n",
    "\n",
    "        y_actual = []\n",
    "        y_actual = numpy.append(y_actual, y_val)\n",
    "        correctPredictions = 0\n",
    "\n",
    "        for x in range(len(predictions_array)):\n",
    "            if predictions_array[x] == str(int(y_actual[x])):\n",
    "                correctPredictions += 1\n",
    "\n",
    "        accuracy = correctPredictions / len(predictions_array)\n",
    "        threshold_popular1_list.append(threshold_popular1)\n",
    "        threshold_jaccard1_list.append(threshold_jaccard1)\n",
    "        accuracy1_list.append(accuracy)"
   ]
  },
  {
   "cell_type": "code",
   "execution_count": null,
   "metadata": {},
   "outputs": [],
   "source": [
    "combo_model_df = pd.DataFrame(\n",
    "    list(zip(threshold_popular1_list, threshold_jaccard1_list, accuracy1_list)),\n",
    "    columns=[\"Popularity Threshold\", \"Jaccard Threshold\", \"Accuracy\"],\n",
    ")\n",
    "combo_model_df.loc[combo_model_df[\"Accuracy\"].idxmax()]"
   ]
  },
  {
   "cell_type": "markdown",
   "metadata": {},
   "source": [
    "Similar to above, I changed the length of the loop in order to reduce reporducing runtime. The values I chose for my final solution are not represented above"
   ]
  },
  {
   "cell_type": "code",
   "execution_count": null,
   "metadata": {},
   "outputs": [],
   "source": [
    "bookCount = defaultdict(int)\n",
    "totalRead = 0\n",
    "\n",
    "for x in range(len(X)):\n",
    "    bookCount[X[x][1]] += 1\n",
    "    totalRead += 1\n",
    "\n",
    "mostPopular = [(bookCount[x], x) for x in bookCount]\n",
    "mostPopular.sort()\n",
    "mostPopular.reverse()\n",
    "\n",
    "accuracy_list = []\n",
    "threshold_popular_list = []\n",
    "threshold_jaccard_list = []\n",
    "return1 = set()\n",
    "count = 0\n",
    "for ic, i in mostPopular:\n",
    "    count += ic\n",
    "    return1.add(i)\n",
    "    if count > 132000:\n",
    "        break\n",
    "\n",
    "predictions = open(\"predictions_Read_kaggleq5.txt\", \"w\")\n",
    "for l in open(\"pairs_Read.txt\"):\n",
    "    if l.startswith(\"userID\"):\n",
    "        # header\n",
    "        predictions.write(l)\n",
    "        continue\n",
    "    u, b = l.strip().split(\"-\")\n",
    "    if mostSimilar(u, b):\n",
    "        if b in return1 and max(mostSimilar(u, b))[0] > 0.0080:\n",
    "            predictions.write(u + \"-\" + b + \",1\\n\")\n",
    "        else:\n",
    "            predictions.write(u + \"-\" + b + \",0\\n\")\n",
    "    elif b in return1:\n",
    "        predictions.write(u + \"-\" + b + \",1\\n\")\n",
    "    else:\n",
    "        predictions.write(u + \"-\" + b + \",0\\n\")\n",
    "predictions.close()"
   ]
  },
  {
   "cell_type": "markdown",
   "metadata": {},
   "source": [
    "### My Kaggle username/display name is \"Alexander Ilyin\",  I signed up with email \"ailyin@ucsd.edu\""
   ]
  },
  {
   "cell_type": "markdown",
   "metadata": {},
   "source": [
    "My top score was .67783, this was using model with jaccard threshold .00750 and popularity threshold of 120,000"
   ]
  },
  {
   "cell_type": "markdown",
   "metadata": {},
   "source": [
    ".\n",
    "\n",
    "\n",
    "\n",
    "\n"
   ]
  },
  {
   "cell_type": "markdown",
   "metadata": {},
   "source": [
    "# Rating Prediction"
   ]
  },
  {
   "cell_type": "markdown",
   "metadata": {},
   "source": [
    "### Question 9: Fitting Simple Predictor"
   ]
  },
  {
   "cell_type": "code",
   "execution_count": 471,
   "metadata": {},
   "outputs": [],
   "source": [
    "import random\n",
    "\n",
    "from statistics import mean\n",
    "from sklearn.metrics import mean_squared_error\n",
    "\n",
    "warnings.filterwarnings(\"ignore\")\n",
    "\n",
    "X = []\n",
    "y = []\n",
    "itemsPerUser = defaultdict(list)\n",
    "usersPerItem = defaultdict(list)\n",
    "user_ratings_train = defaultdict(list)\n",
    "user_averages_train = defaultdict(dict)\n",
    "items_ratings_train = defaultdict(list)\n",
    "items_averages_train = defaultdict(dict)\n",
    "user_biases = defaultdict(list)\n",
    "item_biases = defaultdict(list)\n",
    "\n",
    "for user, book, r in readCSV(\"train_Interactions.csv.gz\"):\n",
    "    X.extend([[user, book]])\n",
    "    r = int(r)\n",
    "    y.append(r)\n",
    "\n",
    "X_train = X[:190000]\n",
    "y_train = y[:190000]\n",
    "X_val = X[190000:200000]\n",
    "y_val = y[190000:200000]\n",
    "\n",
    "for x in range(len(X_train)):\n",
    "    itemsPerUser[X_train[x][0]].append(X_train[x][1])\n",
    "    usersPerItem[X_train[x][1]].append(X_train[x][0])\n",
    "    user_ratings_train[X_train[x][0]].append(y_train[x])\n",
    "    items_ratings_train[X_train[x][1]].append(y_train[x])\n",
    "\n",
    "for u in user_ratings_train:\n",
    "    user_averages_train[u] = sum(user_ratings_train[u]) / len(user_ratings_train[u])\n",
    "\n",
    "for i in items_ratings_train:\n",
    "    items_averages_train[i] = sum(items_ratings_train[i]) / len(items_ratings_train[i])\n",
    "\n",
    "global_avg = mean(y_train)\n",
    "\n",
    "for u in user_averages_train:\n",
    "    user_biases[u] = user_averages_train[u] - global_avg\n",
    "for i in items_averages_train:\n",
    "    item_biases[i] = items_averages_train[i] - global_avg"
   ]
  },
  {
   "cell_type": "code",
   "execution_count": 326,
   "metadata": {},
   "outputs": [
    {
     "name": "stdout",
     "output_type": "stream",
     "text": [
      "The mean squared error on the training set is: 0.9104160042114058\n",
      "The mean squared error on the training set is: 0.9049886289218022\n",
      "The mean squared error on the training set is: 0.9043051229347089\n",
      "The mean squared error on the training set is: 0.9041225817391052\n",
      "The mean squared error on the training set is: 0.9040549183196855\n",
      "The mean squared error on the training set is: 0.904024893265353\n",
      "The mean squared error on the training set is: 0.9040099508579275\n",
      "The mean squared error on the training set is: 0.9040018651649269\n",
      "The mean squared error on the training set is: 0.9039971584267795\n",
      "The mean squared error on the training set is: 0.9039942058988707\n",
      "The mean squared error on the validation set is: 1.1158732273490921\n"
     ]
    }
   ],
   "source": [
    "def pred(a, b, b1):\n",
    "    return a + b + b1\n",
    "\n",
    "\n",
    "def MSE(actual: list, pred: list):\n",
    "    summ = 0\n",
    "    for x in range(len(actual)):\n",
    "        summ += (float(actual[x] - pred[x])) ** 2\n",
    "    summ = summ / len(actual)\n",
    "    return summ\n",
    "\n",
    "\n",
    "old_user_bias = defaultdict(list)\n",
    "old_item_bias = defaultdict(list)\n",
    "counter = 10\n",
    "while counter > 0:\n",
    "    summ = 0\n",
    "    for x in range(len(X_train)):\n",
    "        summ += y_train[x] - (user_biases[X_train[x][0]] + item_biases[X_train[x][1]])\n",
    "    alpha = summ / len(y_train)\n",
    "    y_pred = []\n",
    "    for user in itemsPerUser:\n",
    "        summ_b = 0\n",
    "        for i in range(len(itemsPerUser[user])):\n",
    "            summ_b += user_ratings_train[user][i] - (\n",
    "                alpha + item_biases[itemsPerUser[user][i]]\n",
    "            )\n",
    "        beta_u = (summ_b) / (1 + len(user_ratings_train[user]))\n",
    "        user_bias_new[user] = beta_u\n",
    "        user_biases[user] = beta_u\n",
    "    for book in usersPerItem:\n",
    "        summ_b1 = 0\n",
    "        for i in range(len(usersPerItem[book])):\n",
    "            summ_b1 += items_ratings_train[book][i] - (\n",
    "                alpha + user_biases[usersPerItem[book][i]]\n",
    "            )\n",
    "        beta_i = (summ_b1) / (1 + len(items_ratings_train[book]))\n",
    "        item_bias_new[book] = beta_i\n",
    "        item_biases[book] = beta_i\n",
    "\n",
    "    for user, book in X_train:\n",
    "        prediction = pred(alpha, item_bias_new[book], user_bias_new[user])\n",
    "        y_pred.append(prediction)\n",
    "    mse = MSE(y_train, y_pred)\n",
    "    print(f\"The mean squared error on the training set is: {mse}\")\n",
    "    counter = counter - 1\n",
    "\n",
    "y_pred = []\n",
    "for user, item in X_val:\n",
    "    if user_bias_new[user] != [] and item_bias_new[item] != []:\n",
    "        predictions = pred(alpha, user_bias_new[user], item_bias_new[item])\n",
    "        y_pred.append(predictions)\n",
    "    elif user_bias_new[user] == []:\n",
    "        predictions = pred(alpha, 0, item_bias_new[item])\n",
    "        y_pred.append(predictions)\n",
    "    elif item_bias_new[item] == []:\n",
    "        predictions = pred(alpha, user_bias_new[user], 0)\n",
    "        y_pred.append(predictions)\n",
    "mse = MSE(y_val, y_pred)\n",
    "print(f\"The mean squared error on the validation set is: {mse}\")"
   ]
  },
  {
   "cell_type": "markdown",
   "metadata": {},
   "source": [
    "### Question 10: Largest and Smallest beta values"
   ]
  },
  {
   "cell_type": "code",
   "execution_count": 327,
   "metadata": {},
   "outputs": [
    {
     "name": "stdout",
     "output_type": "stream",
     "text": [
      "Larget user beta = u32162993 and smallest user beta = u48313610\n",
      "Largest item beta = b19925500 and smallest item beta = b84091840\n"
     ]
    }
   ],
   "source": [
    "import operator\n",
    "\n",
    "print(\n",
    "    f\"Larget user beta = {max(user_bias_new.items(), key=operator.itemgetter(1))[0]} and smallest user beta = {min(user_bias_new.items(), key=operator.itemgetter(1))[0]}\"\n",
    ")\n",
    "print(\n",
    "    f\"Largest item beta = {max(item_bias_new.items(), key=operator.itemgetter(1))[0]} and smallest item beta = {min(item_bias_new.items(), key=operator.itemgetter(1))[0]}\"\n",
    ")"
   ]
  },
  {
   "cell_type": "markdown",
   "metadata": {},
   "source": [
    "### Question 11: Finding an optimal lambda"
   ]
  },
  {
   "cell_type": "code",
   "execution_count": 328,
   "metadata": {},
   "outputs": [],
   "source": [
    "mse_list = []\n",
    "lambda_list = []\n",
    "\n",
    "for l in range(1, 5):\n",
    "    counter = 10\n",
    "    user_bias_new = defaultdict(list)\n",
    "    item_bias_new = defaultdict(list)\n",
    "    old_user_bias = defaultdict(list)\n",
    "    old_item_bias = defaultdict(list)\n",
    "    counter = 10\n",
    "    while counter > 0:\n",
    "        summ = 0\n",
    "        for x in range(len(X_train)):\n",
    "            summ += y_train[x] - (\n",
    "                user_biases[X_train[x][0]] + item_biases[X_train[x][1]]\n",
    "            )\n",
    "        alpha = summ / len(y_train)\n",
    "        y_pred = []\n",
    "        for user in itemsPerUser:\n",
    "            summ_b = 0\n",
    "            for i in range(len(itemsPerUser[user])):\n",
    "                summ_b += user_ratings_train[user][i] - (\n",
    "                    alpha + item_biases[itemsPerUser[user][i]]\n",
    "                )\n",
    "            beta_u = (summ_b) / (l + len(user_ratings_train[user]))\n",
    "            user_bias_new[user] = beta_u\n",
    "            user_biases[user] = beta_u\n",
    "        for book in usersPerItem:\n",
    "            summ_b1 = 0\n",
    "            for i in range(len(usersPerItem[book])):\n",
    "                summ_b1 += items_ratings_train[book][i] - (\n",
    "                    alpha + user_biases[usersPerItem[book][i]]\n",
    "                )\n",
    "            beta_i = (summ_b1) / (l + len(items_ratings_train[book]))\n",
    "            item_bias_new[book] = beta_i\n",
    "            item_biases[book] = beta_i\n",
    "\n",
    "        for user, book in X_train:\n",
    "            prediction = pred(alpha, item_bias_new[book], user_bias_new[user])\n",
    "            y_pred.append(prediction)\n",
    "        mse = MSE(y_train, y_pred)\n",
    "        counter = counter - 1\n",
    "\n",
    "    y_pred = []\n",
    "    for user, item in X_val:\n",
    "        if user_bias_new[user] != [] and item_bias_new[item] != []:\n",
    "            predictions = pred(alpha, user_bias_new[user], item_bias_new[item])\n",
    "            y_pred.append(predictions)\n",
    "        elif user_bias_new[user] == []:\n",
    "            predictions = pred(alpha, 0, item_bias_new[item])\n",
    "            y_pred.append(predictions)\n",
    "        elif item_bias_new[item] == []:\n",
    "            predictions = pred(alpha, user_bias_new[user], 0)\n",
    "            y_pred.append(predictions)\n",
    "    mse = MSE(y_val, y_pred)\n",
    "    mse_list.append(mse)\n",
    "    lambda_list.append(l)"
   ]
  },
  {
   "cell_type": "code",
   "execution_count": 332,
   "metadata": {},
   "outputs": [
    {
     "data": {
      "text/plain": [
       "([<matplotlib.axis.XTick at 0x7f59ef882128>,\n",
       "  <matplotlib.axis.XTick at 0x7f59ef363d68>,\n",
       "  <matplotlib.axis.XTick at 0x7f59ef363160>,\n",
       "  <matplotlib.axis.XTick at 0x7f59f18c1ba8>],\n",
       " <a list of 4 Text xticklabel objects>)"
      ]
     },
     "execution_count": 332,
     "metadata": {},
     "output_type": "execute_result"
    },
    {
     "data": {
      "image/png": "[encoded data removed]",
      "text/plain": [
       "<Figure size 432x288 with 1 Axes>"
      ]
     },
     "metadata": {
      "needs_background": "light"
     },
     "output_type": "display_data"
    }
   ],
   "source": [
    "mse_lambda = pd.DataFrame(list(zip(mse_list, lambda_list)), columns=[\"MSE\", \"Lambda\"])\n",
    "\n",
    "plt.plot(\"Lambda\", \"MSE\", data=mse_lambda)\n",
    "plt.xlabel(\"Lambda\")\n",
    "plt.ylabel(\"Validation MSE\")\n",
    "plt.xticks(range(1, 5))"
   ]
  },
  {
   "cell_type": "markdown",
   "metadata": {},
   "source": [
    "Optimal lambda seems to be 3 in this case"
   ]
  },
  {
   "cell_type": "code",
   "execution_count": 398,
   "metadata": {},
   "outputs": [],
   "source": [
    "counter = 10\n",
    "user_bias_new = defaultdict(list)\n",
    "item_bias_new = defaultdict(list)\n",
    "old_user_bias = defaultdict(list)\n",
    "old_item_bias = defaultdict(list)\n",
    "counter = 10\n",
    "while counter > 0:\n",
    "    summ = 0\n",
    "    for x in range(len(X_train)):\n",
    "        summ += y_train[x] - (user_biases[X_train[x][0]] + item_biases[X_train[x][1]])\n",
    "    alpha = summ / len(y_train)\n",
    "    y_pred = []\n",
    "    for user in itemsPerUser:\n",
    "        summ_b = 0\n",
    "        for i in range(len(itemsPerUser[user])):\n",
    "            summ_b += user_ratings_train[user][i] - (\n",
    "                alpha + item_biases[itemsPerUser[user][i]]\n",
    "            )\n",
    "        beta_u = (summ_b) / (3 + len(user_ratings_train[user]))\n",
    "        user_bias_new[user] = beta_u\n",
    "        user_biases[user] = beta_u\n",
    "    for book in usersPerItem:\n",
    "        summ_b1 = 0\n",
    "        for i in range(len(usersPerItem[book])):\n",
    "            summ_b1 += items_ratings_train[book][i] - (\n",
    "                alpha + user_biases[usersPerItem[book][i]]\n",
    "            )\n",
    "        beta_i = (summ_b1) / (3 + len(items_ratings_train[book]))\n",
    "        item_bias_new[book] = beta_i\n",
    "        item_biases[book] = beta_i\n",
    "\n",
    "    for user, book in X_train:\n",
    "        prediction = pred(alpha, item_bias_new[book], user_bias_new[user])\n",
    "        y_pred.append(prediction)\n",
    "    mse = MSE(y_train, y_pred)\n",
    "    counter = counter - 1\n",
    "\n",
    "predictions = open(\"predictions_Rating.txt\", \"w\")\n",
    "for l in open(\"pairs_Rating.txt\"):\n",
    "    if l.startswith(\"userID\"):\n",
    "        # header\n",
    "        predictions.write(l)\n",
    "        continue\n",
    "    u, b = l.strip().split(\"-\")\n",
    "    if user_bias_new[u] != [] and item_bias_new[b] != []:\n",
    "        predictions.write(u + \"-\" + b + \",\" + str(pred(alpha, user_bias_new[u], item_bias_new[b])) + \"\\n\")\n",
    "    elif user_bias_new[u] == []:\n",
    "        predictions.write(u + \"-\" + b + \",\" + str(pred(alpha, 0, item_bias_new[b])) + \"\\n\")\n",
    "    elif item_bias_new[b] == []:\n",
    "        predictions.write(u + \"-\" + b + \",\" + str(pred(alpha, user_bias_new[u], 0)) + \"\\n\")\n",
    "    elif user_bias_new[u] == [] and item_bias_new[b] == []:\n",
    "        predictions.write(u + \"-\" + b + \",\" + str(pred(alpha, 0, 0)) + \"\\n\")\n",
    "\n",
    "predictions.close()"
   ]
  },
  {
   "cell_type": "markdown",
   "metadata": {},
   "source": [
    "Another way I thought to imporve this initial model, was to use more of the dataset for training. I tried various models, but settled on using the WHOLE dataset for training, and found that this gave me the best score on Kaggle. "
   ]
  },
  {
   "cell_type": "code",
   "execution_count": 338,
   "metadata": {},
   "outputs": [],
   "source": [
    "import random\n",
    "\n",
    "from statistics import mean\n",
    "from sklearn.metrics import mean_squared_error\n",
    "\n",
    "warnings.filterwarnings(\"ignore\")\n",
    "\n",
    "X = []\n",
    "y = []\n",
    "itemsPerUser = defaultdict(list)\n",
    "usersPerItem = defaultdict(list)\n",
    "user_ratings_train = defaultdict(list)\n",
    "user_averages_train = defaultdict(dict)\n",
    "items_ratings_train = defaultdict(list)\n",
    "items_averages_train = defaultdict(dict)\n",
    "user_biases = defaultdict(list)\n",
    "item_biases = defaultdict(list)\n",
    "\n",
    "for user, book, r in readCSV(\"train_Interactions.csv.gz\"):\n",
    "    X.extend([[user, book]])\n",
    "    r = int(r)\n",
    "    y.append(r)\n",
    "\n",
    "X_train = X[:190000]\n",
    "y_train = y[:190000]\n",
    "X_val = X[190000:200000]\n",
    "y_val = y[190000:200000]\n",
    "\n",
    "for x in range(len(X)):\n",
    "    itemsPerUser[X[x][0]].append(X[x][1])\n",
    "    usersPerItem[X[x][1]].append(X[x][0])\n",
    "    user_ratings_train[X[x][0]].append(y[x])\n",
    "    items_ratings_train[X[x][1]].append(y[x])\n",
    "\n",
    "for u in user_ratings_train:\n",
    "    user_averages_train[u] = sum(user_ratings_train[u]) / len(user_ratings_train[u])\n",
    "\n",
    "for i in items_ratings_train:\n",
    "    items_averages_train[i] = sum(items_ratings_train[i]) / len(items_ratings_train[i])\n",
    "\n",
    "global_avg = mean(y_train)\n",
    "\n",
    "for u in user_averages_train:\n",
    "    user_biases[u] = user_averages_train[u] - global_avg\n",
    "for i in items_averages_train:\n",
    "    item_biases[i] = items_averages_train[i] - global_avg"
   ]
  },
  {
   "cell_type": "code",
   "execution_count": 339,
   "metadata": {},
   "outputs": [
    {
     "name": "stdout",
     "output_type": "stream",
     "text": [
      "The mean squared error on the validation set is: 0.9166657051478027\n",
      "The mean squared error on the validation set is: 0.9230717629220657\n",
      "The mean squared error on the validation set is: 0.9310654940806214\n",
      "The mean squared error on the validation set is: 0.9399199754784744\n",
      "The mean squared error on the validation set is: 0.9492118718702502\n",
      "The mean squared error on the validation set is: 0.9586781622171168\n",
      "The mean squared error on the validation set is: 0.9681523142457509\n"
     ]
    }
   ],
   "source": [
    "mse_list = []\n",
    "lambda_list = []\n",
    "\n",
    "for l in range(1, 8):\n",
    "    counter = 10\n",
    "    user_bias_new = defaultdict(list)\n",
    "    item_bias_new = defaultdict(list)\n",
    "    old_user_bias = defaultdict(list)\n",
    "    old_item_bias = defaultdict(list)\n",
    "    counter = 10\n",
    "    while counter > 0:\n",
    "        summ = 0\n",
    "        for x in range(len(X)):\n",
    "            summ += y[x] - (user_biases[X[x][0]] + item_biases[X[x][1]])\n",
    "        alpha = summ / len(y)\n",
    "        y_pred = []\n",
    "        for user in itemsPerUser:\n",
    "            summ_b = 0\n",
    "            for i in range(len(itemsPerUser[user])):\n",
    "                summ_b += user_ratings_train[user][i] - (\n",
    "                    alpha + item_biases[itemsPerUser[user][i]]\n",
    "                )\n",
    "            beta_u = (summ_b) / (l + len(user_ratings_train[user]))\n",
    "            user_bias_new[user] = beta_u\n",
    "            user_biases[user] = beta_u\n",
    "        for book in usersPerItem:\n",
    "            summ_b1 = 0\n",
    "            for i in range(len(usersPerItem[book])):\n",
    "                summ_b1 += items_ratings_train[book][i] - (\n",
    "                    alpha + user_biases[usersPerItem[book][i]]\n",
    "                )\n",
    "            beta_i = (summ_b1) / (l + len(items_ratings_train[book]))\n",
    "            item_bias_new[book] = beta_i\n",
    "            item_biases[book] = beta_i\n",
    "\n",
    "        for user, book in X:\n",
    "            prediction = pred(alpha, item_bias_new[book], user_bias_new[user])\n",
    "            y_pred.append(prediction)\n",
    "        mse = MSE(y, y_pred)\n",
    "        counter = counter - 1\n",
    "\n",
    "    y_pred = []\n",
    "    for user, item in X_val:\n",
    "        if user_bias_new[user] != [] and item_bias_new[item] != []:\n",
    "            predictions = pred(alpha, user_bias_new[user], item_bias_new[item])\n",
    "            y_pred.append(predictions)\n",
    "        elif user_bias_new[user] == []:\n",
    "            predictions = pred(alpha, 0, item_bias_new[item])\n",
    "            y_pred.append(predictions)\n",
    "        elif item_bias_new[item] == []:\n",
    "            predictions = pred(alpha, user_bias_new[user], 0)\n",
    "            y_pred.append(predictions)\n",
    "    mse = MSE(y_val, y_pred)\n",
    "    print(f\"The mean squared error on the validation set is: {mse}\")\n",
    "    mse_list.append(mse)\n",
    "    lambda_list.append(l)"
   ]
  },
  {
   "cell_type": "markdown",
   "metadata": {},
   "source": [
    "This tells us that the optimal lambda was at 1, so we use the whole dataset as training with lambda=1, and predict..."
   ]
  },
  {
   "cell_type": "code",
   "execution_count": 340,
   "metadata": {},
   "outputs": [],
   "source": [
    "counter = 10\n",
    "user_bias_new = defaultdict(list)\n",
    "item_bias_new = defaultdict(list)\n",
    "old_user_bias = defaultdict(list)\n",
    "old_item_bias = defaultdict(list)\n",
    "counter = 10\n",
    "while counter > 0:\n",
    "    summ = 0 \n",
    "    for x in range(len(X)):\n",
    "        summ += y[x] - (user_biases[X[x][0]]+item_biases[X[x][1]])\n",
    "    alpha = summ / len(y)\n",
    "    y_pred = []     \n",
    "    for user in itemsPerUser:\n",
    "        summ_b = 0\n",
    "        for i in range(len(itemsPerUser[user])):\n",
    "            summ_b += user_ratings_train[user][i] - (alpha + item_biases[itemsPerUser[user][i]])\n",
    "        beta_u = (summ_b) / (1+len(user_ratings_train[user]))\n",
    "        user_bias_new[user] = beta_u\n",
    "        user_biases[user] = beta_u\n",
    "    for book in usersPerItem:\n",
    "        summ_b1 = 0\n",
    "        for i in range(len(usersPerItem[book])):\n",
    "            summ_b1 += items_ratings_train[book][i] - (alpha + user_biases[usersPerItem[book][i]])\n",
    "        beta_i = (summ_b1) / (1+len(items_ratings_train[book]))\n",
    "        item_bias_new[book] = beta_i \n",
    "        item_biases[book] = beta_i\n",
    "\n",
    "    for user, book in X:\n",
    "        prediction = pred(alpha, item_bias_new[book], user_bias_new[user])\n",
    "        y_pred.append(prediction)\n",
    "    mse = MSE(y, y_pred)\n",
    "    counter = counter - 1\n",
    "\n",
    "predictions = open(\"predictions_Rating.txt\", 'w')\n",
    "for l in open(\"pairs_Rating.txt\"):\n",
    "    if l.startswith(\"userID\"):\n",
    "        #header\n",
    "        predictions.write(l)\n",
    "        continue\n",
    "    u,b = l.strip().split('-')\n",
    "    if user_bias_new[u] != [] and item_bias_new[b] != []:\n",
    "        predictions.write(u + '-' + b + ',' + str(pred(alpha, user_bias_new[u], item_bias_new[b])) + '\\n')\n",
    "    elif user_bias_new[u] == []:\n",
    "        predictions.write(u + '-' + b + ',' + str(pred(alpha, 0, item_bias_new[b])) + '\\n')\n",
    "    elif item_bias_new[b] == []:\n",
    "        predictions.write(u + '-' + b + ',' + str(pred(alpha, user_bias_new[u], 0)) + '\\n')\n",
    "    elif user_bias_new[u] == [] and item_bias_new[b] == []:\n",
    "        predictions.write(u + '-' + b + ',' + str(pred(alpha, 0, 0)) + '\\n')\n",
    "\n",
    "predictions.close()"
   ]
  },
  {
   "cell_type": "markdown",
   "metadata": {},
   "source": [
    "."
   ]
  },
  {
   "cell_type": "markdown",
   "metadata": {},
   "source": [
    "."
   ]
  },
  {
   "cell_type": "markdown",
   "metadata": {},
   "source": [
    "."
   ]
  },
  {
   "cell_type": "code",
   "execution_count": 5,
   "metadata": {},
   "outputs": [],
   "source": [
    "import pandas as pd\n",
    "import numpy\n",
    "import warnings\n",
    "import gzip\n",
    "import random\n",
    "import matplotlib.pyplot as plt\n",
    "\n",
    "from collections import defaultdict\n",
    "from math import sqrt\n",
    "\n",
    "warnings.filterwarnings(\"ignore\")\n",
    "\n",
    "X = []\n",
    "y = []\n",
    "data = pd.read_csv(\"train_Interactions.csv.gz\")\n",
    "for i in range(len(data)):\n",
    "    X.extend([[data[\"userID\"][i], data[\"bookID\"][i]]])\n",
    "    y.append(1)\n",
    "    \n",
    "itemsPerUser = defaultdict(list)\n",
    "usersPerItem = defaultdict(list)\n",
    "user_ratings = defaultdict(list)\n",
    "user_book_ratings = defaultdict(list)\n",
    "user_averages = defaultdict(dict)\n",
    "items_ratings = defaultdict(list)\n",
    "items_averages = defaultdict(dict)\n",
    "all_books = set([x[1] for x in X])\n",
    "\n",
    "\n",
    "def cosim(set1, set2):\n",
    "    numer = set1.intersection(set2)\n",
    "    numer = len(numer)\n",
    "    denom = len(set1) * len(set2)\n",
    "    sim = numer / denom\n",
    "    return(sim)\n",
    "\n",
    "def mostSimilarCosine(u, b):\n",
    "    similarities = []\n",
    "    books = set(itemsPerUser[u])\n",
    "    for book in books:\n",
    "        sim = cosim(set(usersPerItem[b]), set(usersPerItem[book]))\n",
    "        similarities.append(sim)\n",
    "    similarities.sort(reverse=True)\n",
    "    if similarities[0] == 1.0 and len(similarities) > 1:\n",
    "        return similarities[1]\n",
    "    else: \n",
    "        return max(similarities)\n",
    "\n",
    "def distance(set1, set2):\n",
    "    diff1 = set1.difference(set2)\n",
    "    diff2 = set2.difference(set1)\n",
    "    \n",
    "    distance = len(diff1) + len(diff2)\n",
    "    return(-distance)\n",
    "\n",
    "def closest(u, b):\n",
    "    closest = []\n",
    "    books = set(itemsPerUser[u])\n",
    "    for book in books:\n",
    "        dist = distance(set(usersPerItem[u]), set(usersPerItem[book]))\n",
    "        closest.append(dist)\n",
    "    closest.sort(reverse=False)\n",
    "    return closest[:10]\n",
    "\n",
    "\n",
    "def Jaccard(s1, s2):\n",
    "    numer = len(set(s1).intersection(set(s2)))\n",
    "    denom = len(set(s1).union(set(s2)))\n",
    "    return numer / denom\n",
    "\n",
    "\n",
    "def mostSimilar(u, b):\n",
    "    similarities = []\n",
    "    books = set(itemsPerUser[u])\n",
    "    for book in books:\n",
    "        sim = Jaccard(usersPerItem[b], usersPerItem[book])\n",
    "        similarities.append(sim)\n",
    "    similarities.sort(reverse=True)\n",
    "    if similarities[0] == 1.0 and len(similarities) > 1:\n",
    "        return similarities[1]\n",
    "    else:\n",
    "        return max(similarities)\n",
    "\n",
    "for x in range(len(X)):\n",
    "    itemsPerUser[X[x][0]].append(X[x][1])\n",
    "    usersPerItem[X[x][1]].append(X[x][0])\n",
    "    user_book_ratings[X[x][0], X[x][1]].append(int(y[x]))\n",
    "    user_ratings[X[x][0]].append(int(y[x]))\n",
    "    items_ratings[X[x][1], X[x][1]].append(int(y[x]))\n",
    "    \n",
    "bookCount = defaultdict(int)\n",
    "totalRead = 0\n",
    "\n",
    "for x in range(len(X)):\n",
    "    bookCount[X[x][1]] += 1\n",
    "    totalRead += 1\n",
    "    \n",
    "mostPopular = [(bookCount[x], x) for x in bookCount]\n",
    "mostPopular.sort()\n",
    "mostPopular.reverse()"
   ]
  },
  {
   "cell_type": "code",
   "execution_count": 6,
   "metadata": {},
   "outputs": [],
   "source": [
    "X_train = X[:190000]\n",
    "y_train = y[:190000]\n",
    "X_val = X[190000:200000]\n",
    "y_val = y[190000:200000] \n",
    "\n",
    "similarities_list = []\n",
    "count_list = []\n",
    "\n",
    "for x in range(190000):\n",
    "    user = X_train[x][0]\n",
    "    unread_books = list(all_books.difference(itemsPerUser[user]))\n",
    "    choice = unread_books[random.randint(0, len(unread_books) - 1)]\n",
    "    X.extend([[X_train[x][0], choice]])\n",
    "    y.append(0)\n",
    "    \n",
    "for x in range(10000):\n",
    "    user = X_val[x][0]\n",
    "    unread_books = list(all_books.difference(itemsPerUser[user]))\n",
    "    choice = unread_books[random.randint(0, len(unread_books) - 1)]\n",
    "    X.extend([[X_val[x][0], choice]])\n",
    "    y.append(0)\n",
    "\n",
    "for x in range(len(X)):\n",
    "    similarities_list.extend([[1, bookCount[X[x][1]], mostSimilar(X[x][0], X[x][1]), \n",
    "                               mostSimilarCosine(X[x][0], X[x][1])]])\n"
   ]
  },
  {
   "cell_type": "code",
   "execution_count": null,
   "metadata": {},
   "outputs": [],
   "source": [
    "similarities_list"
   ]
  },
  {
   "cell_type": "code",
   "execution_count": 8,
   "metadata": {},
   "outputs": [],
   "source": [
    "joined_list = []\n",
    "for x in range(len(X)):\n",
    "    joined_list.append((X[x][0], X[x][1], y[x], similarities_list[x][0], similarities_list[x][1], similarities_list[x][2], similarities_list[x][3]))\n",
    "    \n",
    "similarities_df = pd.DataFrame.from_records(joined_list, columns = ['User', 'Book', 'Read', 'Offset', 'Popularity', 'maxJaccard', 'maxCosine'])\n",
    "\n",
    "random.shuffle(joined_list)\n",
    "\n",
    "X_train = []\n",
    "X_val = []\n",
    "y_train = []\n",
    "y_val = []\n",
    "\n",
    "for x in range(380000):\n",
    "    X_train.append((joined_list[x][3], joined_list[x][4], joined_list[x][5], joined_list[x][6]))\n",
    "    y_train.append(joined_list[x][2])\n",
    "    \n",
    "for x in range(380000, 400000):\n",
    "    X_val.append((joined_list[x][3], joined_list[x][4], joined_list[x][5], joined_list[x][6]))\n",
    "    y_val.append(joined_list[x][2])"
   ]
  },
  {
   "cell_type": "code",
   "execution_count": 9,
   "metadata": {},
   "outputs": [
    {
     "data": {
      "text/plain": [
       "380000"
      ]
     },
     "execution_count": 9,
     "metadata": {},
     "output_type": "execute_result"
    }
   ],
   "source": [
    "len(X_train)"
   ]
  },
  {
   "cell_type": "code",
   "execution_count": 10,
   "metadata": {},
   "outputs": [
    {
     "name": "stdout",
     "output_type": "stream",
     "text": [
      "0.012252450490098044\n"
     ]
    }
   ],
   "source": [
    "from sklearn.linear_model import LogisticRegression\n",
    "\n",
    "def find_ber(predictions: list, y: list):\n",
    "    true_positive = 0\n",
    "    false_negative = 0\n",
    "    true_negative = 0\n",
    "    false_positive = 0\n",
    "    balanced_error_rate = 0\n",
    "    for i in range(len(predictions)):\n",
    "        if predictions[i] == True and y[i] == True:\n",
    "            true_positive = true_positive + 1\n",
    "    for i in range(len(predictions)):\n",
    "        if predictions[i] == False and y[i] == True:\n",
    "            false_negative = false_negative + 1\n",
    "    t_p_r = true_positive / (true_positive + false_negative)\n",
    "\n",
    "    for i in range(len(predictions)):\n",
    "        if predictions[i] == False and y[i] == False:\n",
    "            true_negative = true_negative + 1\n",
    "    for i in range(len(predictions)):\n",
    "        if predictions[i] == True and y[i] == False:\n",
    "            false_positive = false_positive + 1\n",
    "    t_n_r = true_negative / (true_negative + false_positive)\n",
    "    balanced_error_rate = 1 - (0.5 * (t_p_r + t_n_r))\n",
    "\n",
    "    return balanced_error_rate\n",
    "\n",
    "reg = LogisticRegression(C=1.0)\n",
    "reg.fit(X_train, y_train)\n",
    "pred = reg.predict(X_val)\n",
    "\n",
    "print(find_ber(pred, y_val))\n",
    "correctPredictions = pred == y_val\n",
    "accuracy_test = sum(correctPredictions) / len(correctPredictions)"
   ]
  },
  {
   "cell_type": "code",
   "execution_count": 11,
   "metadata": {},
   "outputs": [
    {
     "data": {
      "text/plain": [
       "0.98775"
      ]
     },
     "execution_count": 11,
     "metadata": {},
     "output_type": "execute_result"
    }
   ],
   "source": [
    "accuracy_test"
   ]
  },
  {
   "cell_type": "code",
   "execution_count": 1158,
   "metadata": {},
   "outputs": [],
   "source": [
    "accuracy_list = []\n",
    "lambda_list = []\n",
    "for l in numpy.arange(.1, 10, .5):\n",
    "    reg = LogisticRegression(C=l)\n",
    "    reg.fit(X_train, y_train)\n",
    "    pred = reg.predict(X_val)\n",
    "    \n",
    "    correctPredictions = pred == y_val\n",
    "    accuracy_val = sum(correctPredictions) / len(correctPredictions)\n",
    "    \n",
    "    accuracy_list.append(accuracy_val)\n",
    "    lambda_list.append(l)"
   ]
  },
  {
   "cell_type": "code",
   "execution_count": 1159,
   "metadata": {},
   "outputs": [
    {
     "data": {
      "text/plain": [
       "[0.9736,\n",
       " 0.9836,\n",
       " 0.9859333333333333,\n",
       " 0.9876666666666667,\n",
       " 0.9884,\n",
       " 0.9892,\n",
       " 0.9849666666666667,\n",
       " 0.985,\n",
       " 0.9850666666666666,\n",
       " 0.9851666666666666,\n",
       " 0.9850666666666666,\n",
       " 0.9851,\n",
       " 0.9851666666666666,\n",
       " 0.9851666666666666,\n",
       " 0.9852,\n",
       " 0.9929666666666667,\n",
       " 0.9929666666666667,\n",
       " 0.9930333333333333,\n",
       " 0.9932333333333333,\n",
       " 0.9933666666666666]"
      ]
     },
     "execution_count": 1159,
     "metadata": {},
     "output_type": "execute_result"
    }
   ],
   "source": [
    "accuracy_list"
   ]
  },
  {
   "cell_type": "code",
   "execution_count": 1162,
   "metadata": {},
   "outputs": [],
   "source": [
    "pred_features = []\n",
    "test_list = []\n",
    "for l in open(\"pairs_Read.txt\"):\n",
    "    u, b = l.strip().split(\"-\")\n",
    "    if u == 'userID': continue\n",
    "    test_list.append((u, b))\n",
    "    pred_features.append((1, bookCount[b], mostSimilar(u, b), \n",
    "                               mostSimilarCosine(u, b)))"
   ]
  },
  {
   "cell_type": "code",
   "execution_count": 1163,
   "metadata": {},
   "outputs": [],
   "source": [
    "reg = LogisticRegression(C=10)\n",
    "reg.fit(X_train, y_train)\n",
    "kaggle_pred = reg.predict(pred_features)\n",
    "made_predictions = defaultdict(list)\n",
    "predictions = open(\"predictions_Read_postdue.txt\", \"w\")\n",
    "predictions.write('userID' + \"-\" + 'bookID,prediction' + '\\n')\n",
    "for x in range(0, len(test_list)):\n",
    "    if sum(made_predictions[test_list[x][0]]) == 0:\n",
    "        predictions.write(test_list[x][0] + \"-\" + test_list[x][1] + ',' + \"1\" + \"\\n\")\n",
    "        made_predictions[test_list[x][0]].append(1)\n",
    "    elif sum(made_predictions[test_list[x][0]]) > 1:\n",
    "        predictions.write(test_list[x][0] + \"-\" + test_list[x][1] + ',' + \"0\" + \"\\n\")\n",
    "        made_predictions[test_list[x][0]].append(0)\n",
    "    else:\n",
    "        predictions.write(test_list[x][0] + \"-\" + test_list[x][1] + ',' + str(kaggle_pred[x]) + \"\\n\")\n",
    "        made_predictions[test_list[x][0]].append(kaggle_pred[x])\n",
    "predictions.close()"
   ]
  },
  {
   "cell_type": "code",
   "execution_count": 1164,
   "metadata": {},
   "outputs": [],
   "source": [
    "kaggle_pred = reg.predict(pred_features)\n",
    "predictions = open(\"predictions_Read_postdue.txt\", \"w\")\n",
    "predictions.write('userID' + \"-\" + 'bookID,prediction' + '\\n')\n",
    "for x in range(len(test_list)):\n",
    "    predictions.write(test_list[x][0] + \"-\" + test_list[x][1] + ',' + str(kaggle_pred[x]) + \"\\n\")\n",
    "predictions.close()"
   ]
  },
  {
   "cell_type": "code",
   "execution_count": 784,
   "metadata": {},
   "outputs": [
    {
     "data": {
      "text/plain": [
       "0.9523809523809523"
      ]
     },
     "execution_count": 784,
     "metadata": {},
     "output_type": "execute_result"
    }
   ],
   "source": [
    "200000/210000"
   ]
  },
  {
   "cell_type": "code",
   "execution_count": 805,
   "metadata": {},
   "outputs": [
    {
     "data": {
      "text/plain": [
       "0.6"
      ]
     },
     "execution_count": 805,
     "metadata": {},
     "output_type": "execute_result"
    }
   ],
   "source": [
    "150/250"
   ]
  },
  {
   "cell_type": "code",
   "execution_count": 885,
   "metadata": {},
   "outputs": [
    {
     "data": {
      "text/plain": [
       "240000.0"
      ]
     },
     "execution_count": 885,
     "metadata": {},
     "output_type": "execute_result"
    }
   ],
   "source": [
    ".6 * 400000"
   ]
  },
  {
   "cell_type": "code",
   "execution_count": 886,
   "metadata": {},
   "outputs": [
    {
     "data": {
      "text/plain": [
       "400000"
      ]
     },
     "execution_count": 886,
     "metadata": {},
     "output_type": "execute_result"
    }
   ],
   "source": [
    "len(X)"
   ]
  },
  {
   "cell_type": "code",
   "execution_count": 918,
   "metadata": {},
   "outputs": [],
   "source": [
    "import scipy.optimize\n",
    "import numpy as np\n",
    "\n",
    "X = []\n",
    "y = []\n",
    "itemsPerUser = defaultdict(list)\n",
    "usersPerItem = defaultdict(list)\n",
    "user_ratings = defaultdict(list)\n",
    "user_averages = defaultdict(dict)\n",
    "items_ratings = defaultdict(list)\n",
    "items_averages = defaultdict(dict)\n",
    "user_biases = defaultdict(list)\n",
    "item_biases = defaultdict(list)\n",
    "reviewsPerUser = defaultdict(list)\n",
    "reviewsPerItem = defaultdict(list)\n",
    "\n",
    "for user, book, r in readCSV(\"train_Interactions.csv.gz\"):\n",
    "    X.extend([[user, book]])\n",
    "    r = int(r)\n",
    "    y.append(r)\n",
    "\n",
    "X_train = X[:190000]\n",
    "y_train = y[:190000]\n",
    "X_val = X[190000:200000]\n",
    "y_val = y[190000:200000]\n",
    "\n",
    "for x in range(len(X)):\n",
    "    itemsPerUser[X[x][0]].append(X[x][1])\n",
    "    usersPerItem[X[x][1]].append(X[x][0])\n",
    "    user_ratings[X[x][0]].append(y[x])\n",
    "    items_ratings[X[x][1]].append(y[x])\n",
    "\n",
    "for u in user_ratings:\n",
    "    user_averages[u] = sum(user_ratings[u]) / len(user_ratings[u])\n",
    "\n",
    "for i in items_ratings:\n",
    "    items_averages[i] = sum(items_ratings[i]) / len(items_ratings[i])\n",
    "\n",
    "global_avg = mean(y_train)\n",
    "alpha = global_avg\n",
    "    \n",
    "for x in range(len(X)):\n",
    "    user, item, rating = X[x][0], X[x][1], y[x]\n",
    "    reviewsPerUser[user].append((item, rating))\n",
    "    reviewsPerItem[item].append((item, rating))\n",
    "\n",
    "N = len(X)\n",
    "nUsers = len(reviewsPerUser)\n",
    "nItems = len(reviewsPerItem)\n",
    "users = list(reviewsPerUser.keys())\n",
    "items = list(reviewsPerItem.keys())"
   ]
  },
  {
   "cell_type": "code",
   "execution_count": 931,
   "metadata": {},
   "outputs": [],
   "source": [
    "userGamma = {}\n",
    "itemGamma = {}\n",
    "\n",
    "K = 2 \n",
    "\n",
    "for u in reviewsPerUser:\n",
    "    userGamma[u] = [random.random() * 0.1 - 0.05 for k in range(K)]\n",
    "    \n",
    "for i in reviewsPerItem:\n",
    "    itemGamma[i] = [random.random() * 0.1 - 0.05 for k in range(K)]\n",
    "    \n",
    "def unpack(theta):\n",
    "    global alpha\n",
    "    global userBiases\n",
    "    global itemBiases\n",
    "    global userGamma\n",
    "    global itemGamma\n",
    "    index = 0\n",
    "    alpha = theta[index]\n",
    "    index += 1\n",
    "    userBiases = dict(zip(users, theta[index:index+nUsers]))\n",
    "    index += nUsers\n",
    "    itemBiases = dict(zip(items, theta[index:index+nItems]))\n",
    "    index += nItems\n",
    "    for u in users:\n",
    "        userGamma[u] = theta[index:index+K]\n",
    "        index += K\n",
    "    for i in items:\n",
    "        itemGamma[i] = theta[index:index+K]\n",
    "        index += K\n",
    "\n",
    "def MSE_new(predictions, labels):\n",
    "    differences = [(x-y)**2 for x,y in zip(predictions,labels)]\n",
    "    return sum(differences) / len(differences)\n",
    "\n",
    "def prediction(user, item):\n",
    "    return alpha + userBiases[user] + itemBiases[item] + np.inner(userGamma[user], itemGamma[item])\n",
    "\n",
    "def cost(theta, labels, lamb):\n",
    "    unpack(theta)\n",
    "    predictions = [prediction(X[x][0], X[x][1]) for x in range(len(X))]\n",
    "    cost = MSE_new(predictions, labels)\n",
    "    print(\"MSE = \" + str(cost))\n",
    "    for u in users:\n",
    "        cost += lamb*userBiases[u]**2\n",
    "        for k in range(K):\n",
    "            cost += lamb*userGamma[u][k]**2\n",
    "    for i in items:\n",
    "        cost += lamb*itemBiases[i]**2\n",
    "        for k in range(K):\n",
    "            cost += lamb*itemGamma[i][k]**2\n",
    "    return cost\n",
    "\n",
    "def derivative(theta, labels, lamb):\n",
    "    unpack(theta)\n",
    "    N = len(X)\n",
    "    dalpha = 0\n",
    "    dUserBiases = defaultdict(float)\n",
    "    dItemBiases = defaultdict(float)\n",
    "    dUserGamma = {}\n",
    "    dItemGamma = {}\n",
    "    for u in reviewsPerUser:\n",
    "        dUserGamma[u] = [0.0 for k in range(K)]\n",
    "    for i in reviewsPerItem:\n",
    "        dItemGamma[i] = [0.0 for k in range(K)]\n",
    "    for x in range(len(X)):\n",
    "        u, i = X[x][0], X[x][1]\n",
    "        pred = prediction(u, i)\n",
    "        diff = pred - y[x]\n",
    "        dalpha += 2/N * diff\n",
    "        dUserBiases[u] += 2/N*diff\n",
    "        dItemBiases[i] += 2/N*diff\n",
    "        for k in range(K):\n",
    "            dUserGamma[u][k] += 2/N*itemGamma[i][k]*diff\n",
    "            dItemGamma[i][k] += 2/N*userGamma[u][k]*diff\n",
    "        for u in userBiases:\n",
    "            dUserBiases[u] += 2*lamb*userBiases[u]\n",
    "        for k in range(K):\n",
    "            dUserGamma[u][k] += 2*lamb*userGamma[u][k]\n",
    "    for i in itemBiases:\n",
    "        dItemBiases[i] += 2*lamb*itemBiases[i]\n",
    "        for k in range(K):\n",
    "            dItemGamma[i][k] += 2*lamb*itemGamma[i][k]\n",
    "    dtheta = [dalpha] + [dUserBiases[u] for u in users] + [dItemBiases[i] for i in items]\n",
    "    for u in users:\n",
    "        dtheta += dUserGamma[u]\n",
    "    for i in items:\n",
    "        dtheta += dItemGamma[i]\n",
    "    return numpy.array(dtheta)"
   ]
  },
  {
   "cell_type": "code",
   "execution_count": 935,
   "metadata": {},
   "outputs": [
    {
     "name": "stdout",
     "output_type": "stream",
     "text": [
      "MSE = 1.4744191177285175\n"
     ]
    },
    {
     "name": "stderr",
     "output_type": "stream",
     "text": [
      "ERROR:root:Internal Python error in the inspect module.\n",
      "Below is the traceback from this internal error.\n",
      "\n",
      "\n",
      "KeyboardInterrupt\n",
      "\n"
     ]
    }
   ],
   "source": [
    "scipy.optimize.fmin_l_bfgs_b(cost, [alpha] + [0.0]*(nUsers+nItems) + [random.random() * 0.1 - 0.05 for k in range(K*(nUsers+nItems))],\n",
    "                             derivative, args = (y, 0.001))\n"
   ]
  },
  {
   "cell_type": "code",
   "execution_count": 934,
   "metadata": {},
   "outputs": [
    {
     "ename": "NameError",
     "evalue": "name 'theta' is not defined",
     "output_type": "error",
     "traceback": [
      "\u001b[0;31m---------------------------------------------------------------------------\u001b[0m",
      "\u001b[0;31mNameError\u001b[0m                                 Traceback (most recent call last)",
      "\u001b[0;32m<ipython-input-934-dde607ddc995>\u001b[0m in \u001b[0;36m<module>\u001b[0;34m\u001b[0m\n\u001b[0;32m----> 1\u001b[0;31m \u001b[0mtheta\u001b[0m\u001b[0;34m\u001b[0m\u001b[0;34m\u001b[0m\u001b[0m\n\u001b[0m",
      "\u001b[0;31mNameError\u001b[0m: name 'theta' is not defined"
     ]
    }
   ],
   "source": [
    "theta"
   ]
  },
  {
   "cell_type": "code",
   "execution_count": null,
   "metadata": {},
   "outputs": [],
   "source": []
  }
 ],
 "metadata": {
  "kernelspec": {
   "display_name": "Python 3",
   "language": "python",
   "name": "python3"
  },
  "language_info": {
   "codemirror_mode": {
    "name": "ipython",
    "version": 3
   },
   "file_extension": ".py",
   "mimetype": "text/x-python",
   "name": "python",
   "nbconvert_exporter": "python",
   "pygments_lexer": "ipython3",
   "version": "3.6.8"
  }
 },
 "nbformat": 4,
 "nbformat_minor": 4
}
