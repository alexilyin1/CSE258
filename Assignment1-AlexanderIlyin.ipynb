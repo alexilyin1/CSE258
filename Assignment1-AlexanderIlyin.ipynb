{
 "cells": [
  {
   "cell_type": "markdown",
   "metadata": {},
   "source": [
    "# Homework 1 - Alexander Ilyin CSE258"
   ]
  },
  {
   "cell_type": "markdown",
   "metadata": {},
   "source": [
    "# Question 1 Part 1"
   ]
  },
  {
   "cell_type": "code",
   "execution_count": 197,
   "metadata": {},
   "outputs": [
    {
     "data": {
      "text/html": [
       "<div>\n",
       "<style scoped>\n",
       "    .dataframe tbody tr th:only-of-type {\n",
       "        vertical-align: middle;\n",
       "    }\n",
       "\n",
       "    .dataframe tbody tr th {\n",
       "        vertical-align: top;\n",
       "    }\n",
       "\n",
       "    .dataframe thead th {\n",
       "        text-align: right;\n",
       "    }\n",
       "</style>\n",
       "<table border=\"1\" class=\"dataframe\">\n",
       "  <thead>\n",
       "    <tr style=\"text-align: right;\">\n",
       "      <th></th>\n",
       "      <th>star_rating</th>\n",
       "      <th>count</th>\n",
       "    </tr>\n",
       "  </thead>\n",
       "  <tbody>\n",
       "    <tr>\n",
       "      <td>0</td>\n",
       "      <td>1</td>\n",
       "      <td>4766</td>\n",
       "    </tr>\n",
       "    <tr>\n",
       "      <td>1</td>\n",
       "      <td>2</td>\n",
       "      <td>1560</td>\n",
       "    </tr>\n",
       "    <tr>\n",
       "      <td>2</td>\n",
       "      <td>3</td>\n",
       "      <td>3147</td>\n",
       "    </tr>\n",
       "    <tr>\n",
       "      <td>3</td>\n",
       "      <td>4</td>\n",
       "      <td>9808</td>\n",
       "    </tr>\n",
       "    <tr>\n",
       "      <td>4</td>\n",
       "      <td>5</td>\n",
       "      <td>129029</td>\n",
       "    </tr>\n",
       "  </tbody>\n",
       "</table>\n",
       "</div>"
      ],
      "text/plain": [
       "   star_rating   count\n",
       "0            1    4766\n",
       "1            2    1560\n",
       "2            3    3147\n",
       "3            4    9808\n",
       "4            5  129029"
      ]
     },
     "execution_count": 197,
     "metadata": {},
     "output_type": "execute_result"
    },
    {
     "data": {
      "image/png": "[encoded data removed]",
      "text/plain": [
       "<Figure size 432x288 with 1 Axes>"
      ]
     },
     "metadata": {
      "needs_background": "light"
     },
     "output_type": "display_data"
    }
   ],
   "source": [
    "import pandas as pd\n",
    "import seaborn as sns\n",
    "import numpy as np \n",
    "import matplotlib.pyplot as plt\n",
    "\n",
    "amazon = pd.read_csv('amazon_reviews_us_Gift_Card_v1_00 (2).tsv', sep='\\t')\n",
    "\n",
    "ratings_count = amazon.groupby('star_rating').star_rating.agg('count').to_frame('count').reset_index()\n",
    "sns.barplot(x=\"star_rating\", y=\"count\", data=ratings_count)\n",
    "ratings_count"
   ]
  },
  {
   "cell_type": "markdown",
   "metadata": {},
   "source": [
    "# Part 2(a) - Verified Reviews"
   ]
  },
  {
   "cell_type": "code",
   "execution_count": 198,
   "metadata": {},
   "outputs": [
    {
     "data": {
      "text/html": [
       "<div>\n",
       "<style scoped>\n",
       "    .dataframe tbody tr th:only-of-type {\n",
       "        vertical-align: middle;\n",
       "    }\n",
       "\n",
       "    .dataframe tbody tr th {\n",
       "        vertical-align: top;\n",
       "    }\n",
       "\n",
       "    .dataframe thead th {\n",
       "        text-align: right;\n",
       "    }\n",
       "</style>\n",
       "<table border=\"1\" class=\"dataframe\">\n",
       "  <thead>\n",
       "    <tr style=\"text-align: right;\">\n",
       "      <th></th>\n",
       "      <th>star_rating</th>\n",
       "      <th>count</th>\n",
       "    </tr>\n",
       "  </thead>\n",
       "  <tbody>\n",
       "    <tr>\n",
       "      <td>0</td>\n",
       "      <td>1</td>\n",
       "      <td>3977</td>\n",
       "    </tr>\n",
       "    <tr>\n",
       "      <td>1</td>\n",
       "      <td>2</td>\n",
       "      <td>1335</td>\n",
       "    </tr>\n",
       "    <tr>\n",
       "      <td>2</td>\n",
       "      <td>3</td>\n",
       "      <td>2775</td>\n",
       "    </tr>\n",
       "    <tr>\n",
       "      <td>3</td>\n",
       "      <td>4</td>\n",
       "      <td>8890</td>\n",
       "    </tr>\n",
       "    <tr>\n",
       "      <td>4</td>\n",
       "      <td>5</td>\n",
       "      <td>118312</td>\n",
       "    </tr>\n",
       "  </tbody>\n",
       "</table>\n",
       "</div>"
      ],
      "text/plain": [
       "   star_rating   count\n",
       "0            1    3977\n",
       "1            2    1335\n",
       "2            3    2775\n",
       "3            4    8890\n",
       "4            5  118312"
      ]
     },
     "execution_count": 198,
     "metadata": {},
     "output_type": "execute_result"
    },
    {
     "data": {
      "image/png": "[encoded data removed]",
      "text/plain": [
       "<Figure size 432x288 with 1 Axes>"
      ]
     },
     "metadata": {
      "needs_background": "light"
     },
     "output_type": "display_data"
    }
   ],
   "source": [
    "amazon_verified = amazon[amazon.verified_purchase == 'Y']\n",
    "verified_ratings_count = amazon_verified.groupby('star_rating').star_rating.agg('count').to_frame('count').reset_index()\n",
    "sns.barplot(x=\"star_rating\", y=\"count\", data=verified_ratings_count)\n",
    "verified_ratings_count"
   ]
  },
  {
   "cell_type": "markdown",
   "metadata": {},
   "source": [
    "# Part 2(b) - Un-Verified Reviews"
   ]
  },
  {
   "cell_type": "code",
   "execution_count": 199,
   "metadata": {},
   "outputs": [
    {
     "data": {
      "text/html": [
       "<div>\n",
       "<style scoped>\n",
       "    .dataframe tbody tr th:only-of-type {\n",
       "        vertical-align: middle;\n",
       "    }\n",
       "\n",
       "    .dataframe tbody tr th {\n",
       "        vertical-align: top;\n",
       "    }\n",
       "\n",
       "    .dataframe thead th {\n",
       "        text-align: right;\n",
       "    }\n",
       "</style>\n",
       "<table border=\"1\" class=\"dataframe\">\n",
       "  <thead>\n",
       "    <tr style=\"text-align: right;\">\n",
       "      <th></th>\n",
       "      <th>star_rating</th>\n",
       "      <th>count</th>\n",
       "    </tr>\n",
       "  </thead>\n",
       "  <tbody>\n",
       "    <tr>\n",
       "      <td>0</td>\n",
       "      <td>1</td>\n",
       "      <td>789</td>\n",
       "    </tr>\n",
       "    <tr>\n",
       "      <td>1</td>\n",
       "      <td>2</td>\n",
       "      <td>225</td>\n",
       "    </tr>\n",
       "    <tr>\n",
       "      <td>2</td>\n",
       "      <td>3</td>\n",
       "      <td>372</td>\n",
       "    </tr>\n",
       "    <tr>\n",
       "      <td>3</td>\n",
       "      <td>4</td>\n",
       "      <td>918</td>\n",
       "    </tr>\n",
       "    <tr>\n",
       "      <td>4</td>\n",
       "      <td>5</td>\n",
       "      <td>10717</td>\n",
       "    </tr>\n",
       "  </tbody>\n",
       "</table>\n",
       "</div>"
      ],
      "text/plain": [
       "   star_rating  count\n",
       "0            1    789\n",
       "1            2    225\n",
       "2            3    372\n",
       "3            4    918\n",
       "4            5  10717"
      ]
     },
     "execution_count": 199,
     "metadata": {},
     "output_type": "execute_result"
    },
    {
     "data": {
      "image/png": "[encoded data removed]",
      "text/plain": [
       "<Figure size 432x288 with 1 Axes>"
      ]
     },
     "metadata": {
      "needs_background": "light"
     },
     "output_type": "display_data"
    }
   ],
   "source": [
    "amazon_unverified = amazon[amazon.verified_purchase == 'N']\n",
    "unverified_ratings_count = amazon_unverified.groupby('star_rating').star_rating.agg('count').to_frame('count').reset_index()\n",
    "sns.barplot(x=\"star_rating\", y=\"count\", data=unverified_ratings_count)\n",
    "unverified_ratings_count"
   ]
  },
  {
   "cell_type": "markdown",
   "metadata": {},
   "source": [
    "# Part 3"
   ]
  },
  {
   "cell_type": "code",
   "execution_count": 200,
   "metadata": {},
   "outputs": [
    {
     "name": "stderr",
     "output_type": "stream",
     "text": [
      "/usr/local/lib/python3.6/dist-packages/ipykernel_launcher.py:17: FutureWarning: `rcond` parameter will change to the default of machine precision times ``max(M, N)`` where M and N are the input matrix dimensions.\n",
      "To use the future default and silence this warning we advise to pass `rcond=None`, to keep using the old, explicitly pass `rcond=-1`.\n"
     ]
    },
    {
     "data": {
      "text/plain": [
       "array([ 4.84503535e+00,  4.98577544e-02, -1.24545535e-03])"
      ]
     },
     "execution_count": 200,
     "metadata": {},
     "output_type": "execute_result"
    }
   ],
   "source": [
    "amazon['review_body'] = amazon['review_body'].astype(str)\n",
    "amazon['review_length'] = amazon['review_body'].apply(len)\n",
    "amazon_list = amazon[['verified_purchase', 'review_length', 'star_rating']].values.tolist()\n",
    "\n",
    "def feature(data):\n",
    "    feat = [1]\n",
    "    if data[0] == 'Y':\n",
    "        feat.append(1)\n",
    "        feat.append(data[1])\n",
    "    else:\n",
    "        feat.append(0)\n",
    "        feat.append(data[1])\n",
    "    return feat\n",
    "\n",
    "X = [feature(i) for i in amazon_list]\n",
    "y = [amazon_list[i][2] for i in range(len(amazon_list))]\n",
    "theta, residuals, rank, s = np.linalg.lstsq(X,y)\n",
    "theta"
   ]
  },
  {
   "cell_type": "markdown",
   "metadata": {},
   "source": [
    "Explanation for Part 3: \n",
    "From the results printed above, we can see that the coefficient from \"review is verified\" is positive. Based on what we know about regression, this seems to suggest that the fact  that a review is made by a verified purchaser has a positive correlation to the star rating. However, the coefficient for review length is negative, which seems to suggest that longer review have a negative effect on star_rating. Intuitively, this makes sense, since someone who is angry will probably have more to say about a product. "
   ]
  },
  {
   "cell_type": "markdown",
   "metadata": {},
   "source": [
    "# Part 4"
   ]
  },
  {
   "cell_type": "code",
   "execution_count": 201,
   "metadata": {},
   "outputs": [
    {
     "name": "stderr",
     "output_type": "stream",
     "text": [
      "/usr/local/lib/python3.6/dist-packages/ipykernel_launcher.py:15: FutureWarning: `rcond` parameter will change to the default of machine precision times ``max(M, N)`` where M and N are the input matrix dimensions.\n",
      "To use the future default and silence this warning we advise to pass `rcond=None`, to keep using the old, explicitly pass `rcond=-1`.\n",
      "  from ipykernel import kernelapp as app\n"
     ]
    },
    {
     "data": {
      "text/plain": [
       "array([4.578143  , 0.16793392])"
      ]
     },
     "execution_count": 201,
     "metadata": {},
     "output_type": "execute_result"
    }
   ],
   "source": [
    "amazon['review_body'] = amazon['review_body'].astype(str)\n",
    "amazon['review_length'] = amazon['review_body'].apply(len)\n",
    "amazon_list = amazon[['verified_purchase', 'star_rating']].values.tolist()\n",
    "\n",
    "def feature(data):\n",
    "    feat = [1]\n",
    "    if data[0] == 'Y':\n",
    "        feat.append(1)\n",
    "    else:\n",
    "        feat.append(0)\n",
    "    return feat\n",
    "\n",
    "X = [feature(i) for i in amazon_list]\n",
    "y = [amazon_list[i][1] for i in range(len(amazon_list))]\n",
    "theta, residuals, rank, s = np.linalg.lstsq(X,y)\n",
    "theta"
   ]
  },
  {
   "cell_type": "markdown",
   "metadata": {},
   "source": [
    "Explanation for part 4: Interestingly enough, the coefficient for \"review is verified\" increased from the previous problem. Considering the fact that the only change from the previous regression is the absence of the \"review length\" feature, we can say that \"review length\" probably has a strong effect on the regression. Since the verified review coefficient increased, we can confirm our notion that review length has a negative effect on the regression."
   ]
  },
  {
   "cell_type": "markdown",
   "metadata": {},
   "source": [
    "# Part 5"
   ]
  },
  {
   "cell_type": "code",
   "execution_count": 202,
   "metadata": {},
   "outputs": [
    {
     "name": "stderr",
     "output_type": "stream",
     "text": [
      "/usr/local/lib/python3.6/dist-packages/ipykernel_launcher.py:8: FutureWarning: `rcond` parameter will change to the default of machine precision times ``max(M, N)`` where M and N are the input matrix dimensions.\n",
      "To use the future default and silence this warning we advise to pass `rcond=None`, to keep using the old, explicitly pass `rcond=-1`.\n",
      "  \n"
     ]
    },
    {
     "name": "stdout",
     "output_type": "stream",
     "text": [
      "The training and test MSE's are: \n",
      "0.655484219671073 0.9723851990306185\n"
     ]
    }
   ],
   "source": [
    "from sklearn.model_selection import train_test_split\n",
    "from sklearn.metrics import mean_squared_error\n",
    "\n",
    "X_train = X[:int(len(X)*.90)] \n",
    "X_test = X[-int(.10*len(X)):]\n",
    "y_train = y[:int(.90*len(y))]\n",
    "y_test = y[-int(.10*len(y)):] \n",
    "theta, residuals, rank, s = np.linalg.lstsq(X_train, y_train)\n",
    "theta\n",
    "\n",
    "mse_train = 0 \n",
    "for i in range(len(y_train)):\n",
    "    mse_train = mse_train + (y_train[i]-(X_train[i][1]*theta[1]+theta[0]))**2\n",
    "mse_train = mse_train/len(y_train)\n",
    "\n",
    "mse_test = 0 \n",
    "for i in range(len(y_test)):\n",
    "    mse_test = mse_test + (y_test[i]-(X_test[i][1]*theta[1]+theta[0]))**2\n",
    "mse_test = mse_test/len(y_test)\n",
    "\n",
    "print(\"The training and test MSE's are: \") \n",
    "print(mse_train, mse_test)"
   ]
  },
  {
   "cell_type": "markdown",
   "metadata": {},
   "source": [
    "# Part 6"
   ]
  },
  {
   "cell_type": "code",
   "execution_count": 203,
   "metadata": {},
   "outputs": [
    {
     "name": "stdout",
     "output_type": "stream",
     "text": [
      "0.6221007247320745 -0.04811587359382474\n"
     ]
    }
   ],
   "source": [
    "mae_test = 0\n",
    "for i in range(len(y_test)):\n",
    "    mae_test = mae_test + abs(y_test[i]-(X_test[i][1]*theta[1]+theta[0]))\n",
    "mae_test = mae_test/len(y_test)\n",
    "\n",
    "r_square = 1-(mse_test/np.var(y_test))\n",
    "print(mae_test, r_square)"
   ]
  },
  {
   "cell_type": "markdown",
   "metadata": {},
   "source": [
    "# Part 7"
   ]
  },
  {
   "cell_type": "code",
   "execution_count": 204,
   "metadata": {},
   "outputs": [
    {
     "name": "stderr",
     "output_type": "stream",
     "text": [
      "/usr/local/lib/python3.6/dist-packages/ipykernel_launcher.py:8: FutureWarning: `rcond` parameter will change to the default of machine precision times ``max(M, N)`` where M and N are the input matrix dimensions.\n",
      "To use the future default and silence this warning we advise to pass `rcond=None`, to keep using the old, explicitly pass `rcond=-1`.\n",
      "  \n"
     ]
    }
   ],
   "source": [
    "df = pd.DataFrame(columns=['mse_train', 'mse_test', 'train_size'])\n",
    "size = .05\n",
    "while size <= .96:\n",
    "    X_train = X[:int(len(X)*size)] \n",
    "    X_test = X[-int((1-size)*len(X)):]\n",
    "    y_train = y[:int(size*len(y))]\n",
    "    y_test = y[-int((1-size)*len(y)):] \n",
    "    theta, residuals, rank, s = np.linalg.lstsq(X_train, y_train)\n",
    "\n",
    "    mse_train = []\n",
    "    for i in range(len(y_train)):\n",
    "        mse_train.append((y_train[i]-(X_train[i][1]*theta[1]+theta[0]))**2)\n",
    "    mse_train = sum(mse_train)/len(y_train)\n",
    "\n",
    "    mse_test = []\n",
    "    for i in range(len(y_test)):\n",
    "        mse_test.append((y_test[i]-(X_test[i][1]*theta[1]+theta[0]))**2)\n",
    "    mse_test = sum(mse_test)/len(y_test)\n",
    "\n",
    "    size = size+.05\n",
    "    \n",
    "    df = df.append({'mse_train': mse_train,\n",
    "                   'mse_test': mse_test,\n",
    "                   'train_size': len(X_train)}, ignore_index=True)\n"
   ]
  },
  {
   "cell_type": "code",
   "execution_count": 205,
   "metadata": {},
   "outputs": [
    {
     "data": {
      "image/png": "[encoded data removed]",
      "text/plain": [
       "<Figure size 432x288 with 1 Axes>"
      ]
     },
     "metadata": {
      "needs_background": "light"
     },
     "output_type": "display_data"
    }
   ],
   "source": [
    "plt.plot('train_size', 'mse_test', data=df)\n",
    "plt.plot('train_size', 'mse_train', data=df)\n",
    "plt.title('MSE for Train and Test Set vs. Train Set Size')\n",
    "plt.xlabel('Training Test Size')\n",
    "plt.ylabel('Error')\n",
    "plt.legend()\n",
    "plt.show()"
   ]
  },
  {
   "cell_type": "markdown",
   "metadata": {},
   "source": [
    "Explanation for part 7: As shown in the graph above, training test size does have a impact on the performance of our model. The graph above is a good visualization of overfitting, since as the training size reaches its maximum, so does the MSE for the test. If the training set is too large, the model would get a biased view of the data it trains on. Of course, the challenge with training models is making sure the data sees the correct proportion of training and test data, and that the two sets do not overlap. It also makes sense that the train error decreases slightly as the training set increases. However, the interesting thing about this data set is the fact that most ratings are 5 star, meaning that you would get a pretty decent accuracy just predicting 5 stars. With a different data set, the results might change. "
   ]
  },
  {
   "cell_type": "markdown",
   "metadata": {},
   "source": [
    "# Question 2 Part 1"
   ]
  },
  {
   "cell_type": "code",
   "execution_count": 206,
   "metadata": {},
   "outputs": [
    {
     "name": "stderr",
     "output_type": "stream",
     "text": [
      "/usr/local/lib/python3.6/dist-packages/sklearn/linear_model/logistic.py:432: FutureWarning: Default solver will be changed to 'lbfgs' in 0.22. Specify a solver to silence this warning.\n",
      "  FutureWarning)\n"
     ]
    },
    {
     "name": "stdout",
     "output_type": "stream",
     "text": [
      "The accuracy of the model is 0.559840873845324\n",
      "The actual proportion of verified purchases is 0.9122041669476098\n",
      "The proportion of predictions that are verified is 0.9990560312858202\n"
     ]
    }
   ],
   "source": [
    "from sklearn.linear_model import LogisticRegression\n",
    "from sklearn.metrics import mean_squared_error\n",
    "\n",
    "amazon['review_body'] = amazon['review_body'].astype(str)\n",
    "amazon['review_length'] = amazon['review_body'].apply(len)\n",
    "amazon_list = amazon[['verified_purchase', 'star_rating', 'review_length']].values.tolist()\n",
    "\n",
    "def feature(data):\n",
    "    feat = [1]\n",
    "    feat.append(data[1])\n",
    "    feat.append(data[2])\n",
    "    return feat\n",
    "\n",
    "X = [feature(i) for i in amazon_list]\n",
    "y = [1 if amazon_list[i][0] == 'Y' else 0 for i in range(len(amazon_list))]\n",
    "\n",
    "X_train = X[:int(len(X)*.90)] \n",
    "X_test = X[-int(.10*len(X)):]\n",
    "y_train = y[:int(.90*len(y))]\n",
    "y_test = y[-int(.10*len(y)):] \n",
    "\n",
    "reg = LogisticRegression(fit_intercept=False)\n",
    "reg.fit(X_train, y_train)\n",
    "train_predictions = reg.predict(X_train)\n",
    "test_predictions = reg.predict(X_test)\n",
    "\n",
    "accuracy = sum(test_predictions == y_test) / len(y_test)\n",
    "verified_proportion = sum(y)/len(y)\n",
    "positive_predictions = sum(test_predictions)/len(test_predictions)\n",
    "print(f\"The accuracy of the model is {accuracy}\")\n",
    "print(f\"The actual proportion of verified purchases is {verified_proportion}\")\n",
    "print(f\"The proportion of predictions that are verified is {positive_predictions}\")"
   ]
  },
  {
   "cell_type": "markdown",
   "metadata": {},
   "source": [
    "## Part 2 - Testing different models"
   ]
  },
  {
   "cell_type": "code",
   "execution_count": 207,
   "metadata": {},
   "outputs": [],
   "source": [
    "accuracy_tracker = pd.DataFrame(columns=['columns_used', 'accuracy'])"
   ]
  },
  {
   "cell_type": "code",
   "execution_count": 208,
   "metadata": {},
   "outputs": [
    {
     "name": "stderr",
     "output_type": "stream",
     "text": [
      "/usr/local/lib/python3.6/dist-packages/ipykernel_launcher.py:11: SettingWithCopyWarning: \n",
      "A value is trying to be set on a copy of a slice from a DataFrame\n",
      "\n",
      "See the caveats in the documentation: http://pandas.pydata.org/pandas-docs/stable/user_guide/indexing.html#returning-a-view-versus-a-copy\n",
      "  # This is added back by InteractiveShellApp.init_path()\n",
      "/usr/local/lib/python3.6/dist-packages/ipykernel_launcher.py:12: SettingWithCopyWarning: \n",
      "A value is trying to be set on a copy of a slice from a DataFrame\n",
      "\n",
      "See the caveats in the documentation: http://pandas.pydata.org/pandas-docs/stable/user_guide/indexing.html#returning-a-view-versus-a-copy\n",
      "  if sys.path[0] == '':\n",
      "/usr/local/lib/python3.6/dist-packages/ipykernel_launcher.py:8: SettingWithCopyWarning: \n",
      "A value is trying to be set on a copy of a slice from a DataFrame\n",
      "\n",
      "See the caveats in the documentation: http://pandas.pydata.org/pandas-docs/stable/user_guide/indexing.html#returning-a-view-versus-a-copy\n",
      "  \n",
      "/usr/local/lib/python3.6/dist-packages/ipykernel_launcher.py:9: SettingWithCopyWarning: \n",
      "A value is trying to be set on a copy of a slice from a DataFrame\n",
      "\n",
      "See the caveats in the documentation: http://pandas.pydata.org/pandas-docs/stable/user_guide/indexing.html#returning-a-view-versus-a-copy\n",
      "  if __name__ == '__main__':\n"
     ]
    }
   ],
   "source": [
    "import datetime\n",
    "\n",
    "amazon['review_date'] = pd.to_datetime(amazon['review_date'], format='%Y-%m-%d')\n",
    "amazon['holiday_season'] = 'n/a'\n",
    "amazon['not_holiday_season'] = 'n/a'\n",
    "for i in range(len(amazon)):\n",
    "    if amazon['review_date'][i].month in [11,12,1]:\n",
    "        amazon['holiday_season'][i] = 1\n",
    "        amazon['not_holiday_season'][i] = 0\n",
    "    else:\n",
    "        amazon['holiday_season'][i] = 0\n",
    "        amazon['not_holiday_season'][i] = 1"
   ]
  },
  {
   "cell_type": "code",
   "execution_count": 211,
   "metadata": {},
   "outputs": [
    {
     "name": "stderr",
     "output_type": "stream",
     "text": [
      "/usr/local/lib/python3.6/dist-packages/ipykernel_launcher.py:6: SettingWithCopyWarning: \n",
      "A value is trying to be set on a copy of a slice from a DataFrame\n",
      "\n",
      "See the caveats in the documentation: http://pandas.pydata.org/pandas-docs/stable/user_guide/indexing.html#returning-a-view-versus-a-copy\n",
      "  \n",
      "/usr/local/lib/python3.6/dist-packages/ipykernel_launcher.py:4: SettingWithCopyWarning: \n",
      "A value is trying to be set on a copy of a slice from a DataFrame\n",
      "\n",
      "See the caveats in the documentation: http://pandas.pydata.org/pandas-docs/stable/user_guide/indexing.html#returning-a-view-versus-a-copy\n",
      "  after removing the cwd from sys.path.\n"
     ]
    }
   ],
   "source": [
    "amazon['controversial'] = 'n/a'\n",
    "for i in range(len(amazon)):\n",
    "    if amazon['helpful_votes'][i] - amazon['total_votes'][i] < -5:\n",
    "        amazon['controversial'][i] = 1\n",
    "    else: \n",
    "        amazon['controversial'][i] = 0"
   ]
  },
  {
   "cell_type": "code",
   "execution_count": 245,
   "metadata": {},
   "outputs": [
    {
     "name": "stderr",
     "output_type": "stream",
     "text": [
      "/usr/local/lib/python3.6/dist-packages/sklearn/linear_model/logistic.py:432: FutureWarning: Default solver will be changed to 'lbfgs' in 0.22. Specify a solver to silence this warning.\n",
      "  FutureWarning)\n"
     ]
    }
   ],
   "source": [
    "## Question 2 Part 2\n",
    "columns_list = ['verified_purchase', 'not_holiday_season', 'review_length', 'star_rating', 'controversial']\n",
    "amazon_list = amazon[columns_list].values.tolist()\n",
    "\n",
    "def feature(data):\n",
    "    feat = [1]\n",
    "    feat.append(data[1])\n",
    "    feat.append(data[2])\n",
    "    feat.append(data[3])\n",
    "    feat.append(data[4])\n",
    "    return feat\n",
    "\n",
    "X = [feature(i) for i in amazon_list]\n",
    "y = [amazon_list[i][0] for i in range(len(amazon_list))]\n",
    "\n",
    "X_train = X[:int(len(X)*.90)] \n",
    "X_test = X[-int(.10*len(X)):]\n",
    "y_train = y[:int(.90*len(y))]\n",
    "y_test = y[-int(.10*len(y)):] \n",
    "\n",
    "reg = LogisticRegression(fit_intercept=False)\n",
    "reg.fit(X_train, y_train)\n",
    "train_predictions = reg.predict(X_train)\n",
    "test_predictions = reg.predict(X_test)\n",
    "accuracy = sum(test_predictions == y_test) / len(y_test)\n",
    "\n",
    "accuracy_tracker = accuracy_tracker.append({'columns_used': columns_list,\n",
    "                                 'accuracy': accuracy}, ignore_index=True)\n"
   ]
  },
  {
   "cell_type": "code",
   "execution_count": 246,
   "metadata": {},
   "outputs": [
    {
     "data": {
      "text/html": [
       "<div>\n",
       "<style scoped>\n",
       "    .dataframe tbody tr th:only-of-type {\n",
       "        vertical-align: middle;\n",
       "    }\n",
       "\n",
       "    .dataframe tbody tr th {\n",
       "        vertical-align: top;\n",
       "    }\n",
       "\n",
       "    .dataframe thead th {\n",
       "        text-align: right;\n",
       "    }\n",
       "</style>\n",
       "<table border=\"1\" class=\"dataframe\">\n",
       "  <thead>\n",
       "    <tr style=\"text-align: right;\">\n",
       "      <th></th>\n",
       "      <th>columns_used</th>\n",
       "      <th>accuracy</th>\n",
       "    </tr>\n",
       "  </thead>\n",
       "  <tbody>\n",
       "    <tr>\n",
       "      <td>0</td>\n",
       "      <td>[verified_purchase, not_holiday_season]</td>\n",
       "      <td>0.559571</td>\n",
       "    </tr>\n",
       "    <tr>\n",
       "      <td>1</td>\n",
       "      <td>[verified_purchase, not_holiday_season, contro...</td>\n",
       "      <td>0.559571</td>\n",
       "    </tr>\n",
       "    <tr>\n",
       "      <td>2</td>\n",
       "      <td>[verified_purchase, holiday_season]</td>\n",
       "      <td>0.559571</td>\n",
       "    </tr>\n",
       "    <tr>\n",
       "      <td>3</td>\n",
       "      <td>[verified_purchase, holiday_season, review_len...</td>\n",
       "      <td>0.559571</td>\n",
       "    </tr>\n",
       "    <tr>\n",
       "      <td>4</td>\n",
       "      <td>[verified_purchase, holiday_season, star_rating]</td>\n",
       "      <td>0.559571</td>\n",
       "    </tr>\n",
       "    <tr>\n",
       "      <td>5</td>\n",
       "      <td>[verified_purchase, holiday_season, star_ratin...</td>\n",
       "      <td>0.559571</td>\n",
       "    </tr>\n",
       "    <tr>\n",
       "      <td>6</td>\n",
       "      <td>[verified_purchase, holiday_season, star_ratin...</td>\n",
       "      <td>0.559773</td>\n",
       "    </tr>\n",
       "    <tr>\n",
       "      <td>7</td>\n",
       "      <td>[verified_purchase, holiday_season, star_rating]</td>\n",
       "      <td>0.559571</td>\n",
       "    </tr>\n",
       "    <tr>\n",
       "      <td>8</td>\n",
       "      <td>[verified_purchase, holiday_season, controvers...</td>\n",
       "      <td>0.559571</td>\n",
       "    </tr>\n",
       "    <tr>\n",
       "      <td>9</td>\n",
       "      <td>[verified_purchase, controversial]</td>\n",
       "      <td>0.559571</td>\n",
       "    </tr>\n",
       "    <tr>\n",
       "      <td>10</td>\n",
       "      <td>[verified_purchase, not_holiday_season]</td>\n",
       "      <td>0.559571</td>\n",
       "    </tr>\n",
       "    <tr>\n",
       "      <td>11</td>\n",
       "      <td>[verified_purchase, not_holiday_season, review...</td>\n",
       "      <td>0.559571</td>\n",
       "    </tr>\n",
       "    <tr>\n",
       "      <td>12</td>\n",
       "      <td>[verified_purchase, not_holiday_season, review...</td>\n",
       "      <td>0.559571</td>\n",
       "    </tr>\n",
       "    <tr>\n",
       "      <td>13</td>\n",
       "      <td>[verified_purchase, not_holiday_season, review...</td>\n",
       "      <td>0.559773</td>\n",
       "    </tr>\n",
       "    <tr>\n",
       "      <td>14</td>\n",
       "      <td>[verified_purchase, not_holiday_season, review...</td>\n",
       "      <td>0.560043</td>\n",
       "    </tr>\n",
       "    <tr>\n",
       "      <td>15</td>\n",
       "      <td>[verified_purchase, not_holiday_season, review...</td>\n",
       "      <td>0.559773</td>\n",
       "    </tr>\n",
       "    <tr>\n",
       "      <td>16</td>\n",
       "      <td>[verified_purchase, not_holiday_season, review...</td>\n",
       "      <td>0.560043</td>\n",
       "    </tr>\n",
       "  </tbody>\n",
       "</table>\n",
       "</div>"
      ],
      "text/plain": [
       "                                         columns_used  accuracy\n",
       "0             [verified_purchase, not_holiday_season]  0.559571\n",
       "1   [verified_purchase, not_holiday_season, contro...  0.559571\n",
       "2                 [verified_purchase, holiday_season]  0.559571\n",
       "3   [verified_purchase, holiday_season, review_len...  0.559571\n",
       "4    [verified_purchase, holiday_season, star_rating]  0.559571\n",
       "5   [verified_purchase, holiday_season, star_ratin...  0.559571\n",
       "6   [verified_purchase, holiday_season, star_ratin...  0.559773\n",
       "7    [verified_purchase, holiday_season, star_rating]  0.559571\n",
       "8   [verified_purchase, holiday_season, controvers...  0.559571\n",
       "9                  [verified_purchase, controversial]  0.559571\n",
       "10            [verified_purchase, not_holiday_season]  0.559571\n",
       "11  [verified_purchase, not_holiday_season, review...  0.559571\n",
       "12  [verified_purchase, not_holiday_season, review...  0.559571\n",
       "13  [verified_purchase, not_holiday_season, review...  0.559773\n",
       "14  [verified_purchase, not_holiday_season, review...  0.560043\n",
       "15  [verified_purchase, not_holiday_season, review...  0.559773\n",
       "16  [verified_purchase, not_holiday_season, review...  0.560043"
      ]
     },
     "execution_count": 246,
     "metadata": {},
     "output_type": "execute_result"
    }
   ],
   "source": [
    "accuracy_tracker"
   ]
  },
  {
   "cell_type": "code",
   "execution_count": 251,
   "metadata": {},
   "outputs": [
    {
     "data": {
      "text/plain": [
       "(0.5, 0.6)"
      ]
     },
     "execution_count": 251,
     "metadata": {},
     "output_type": "execute_result"
    },
    {
     "data": {
      "image/png": "[encoded data removed]",
      "text/plain": [
       "<Figure size 432x288 with 1 Axes>"
      ]
     },
     "metadata": {
      "needs_background": "light"
     },
     "output_type": "display_data"
    }
   ],
   "source": [
    "accuracy_tracker['columns_used'] = accuracy_tracker['columns_used'].astype(str)\n",
    "sns.barplot(x=\"columns_used\", y=\"accuracy\", data=accuracy_tracker)\n",
    "plt.xticks(rotation=90)\n",
    "plt.ylim(.5, .6)"
   ]
  },
  {
   "cell_type": "markdown",
   "metadata": {},
   "source": [
    "Explanation for part 2: I attempted to train a couple of different models. My first intuition was to see the effect of the date on the verified status of the review. I tested to see if the range was in the holiday season or not, and then tested that model. I then realized that most people would probably be receiving giftcards as gifts, and therefore would not be reviewing as verified \"purchasers\". I tried both options, but neither seemed to have a sizeable effect on the verified status. Another intuition I had was to try to manipulate the two vote counter columns. I subtracted the helpful votes from total votes, and created a controversial votes column, to track which votes had a relatively high amount of negative votes. The reason these models probably did not perform well is because the correlation I had assumed for holiday season and \"controversial\" reviews is not as high as I initially thought. Another reason that the models are not so successful, is the fact that the data is not random. Since we have never shuffled the data, there is huge amounts of bias with the data ordered by timeThe highest accuracy I got was .56, when using the combination [not_holiday_season, review_length, controversial, star_rating]"
   ]
  }
 ],
 "metadata": {
  "kernelspec": {
   "display_name": "Python 3",
   "language": "python",
   "name": "python3"
  },
  "language_info": {
   "codemirror_mode": {
    "name": "ipython",
    "version": 3
   },
   "file_extension": ".py",
   "mimetype": "text/x-python",
   "name": "python",
   "nbconvert_exporter": "python",
   "pygments_lexer": "ipython3",
   "version": "3.6.8"
  }
 },
 "nbformat": 4,
 "nbformat_minor": 4
}
