{
 "cells": [
  {
   "cell_type": "markdown",
   "metadata": {},
   "source": [
    "# Assignment 2 - Alexander Ilyin CSE 258"
   ]
  },
  {
   "cell_type": "markdown",
   "metadata": {},
   "source": [
    "## Diagnostics \n",
    "### Part 1"
   ]
  },
  {
   "cell_type": "code",
   "execution_count": 2,
   "metadata": {},
   "outputs": [],
   "source": [
    "import pandas as pd\n",
    "import warnings\n",
    "from sklearn.linear_model import LogisticRegression\n",
    "\n",
    "warnings.filterwarnings(\"ignore\")\n",
    "\n",
    "d = open(\"data/5year.arff\", \"r\")\n",
    "while not \"@data\" in d.readline():\n",
    "    pass\n",
    "\n",
    "dataset = []\n",
    "for line in d:\n",
    "    if \"?\" in line:\n",
    "        continue\n",
    "    line = line.split(\",\")\n",
    "    values = [1] + [float(x) for x in line]\n",
    "    values[-1] = values[-1] > 0\n",
    "    dataset.append(values)\n",
    "\n",
    "X = [values[:-1] for values in dataset]\n",
    "y = [values[-1] for values in dataset]\n",
    "\n",
    "reg = LogisticRegression()\n",
    "reg.fit(X, y)\n",
    "\n",
    "predictions = reg.predict(X)\n",
    "correctPredictions = predictions == y\n",
    "accuracy = sum(correctPredictions) / len(correctPredictions)\n",
    "\n",
    "\n",
    "def find_ber(predictions: list, y: list):\n",
    "    true_positive = 0\n",
    "    false_negative = 0\n",
    "    true_negative = 0\n",
    "    false_positive = 0\n",
    "    balanced_error_rate = 0\n",
    "    for i in range(len(predictions)):\n",
    "        if predictions[i] == True and y[i] == True:\n",
    "            true_positive = true_positive + 1\n",
    "    for i in range(len(predictions)):\n",
    "        if predictions[i] == False and y[i] == True:\n",
    "            false_negative = false_negative + 1\n",
    "    t_p_r = true_positive / (true_positive + false_negative)\n",
    "\n",
    "    for i in range(len(predictions)):\n",
    "        if predictions[i] == False and y[i] == False:\n",
    "            true_negative = true_negative + 1\n",
    "    for i in range(len(predictions)):\n",
    "        if predictions[i] == True and y[i] == False:\n",
    "            false_positive = false_positive + 1\n",
    "    t_n_r = true_negative / (true_negative + false_positive)\n",
    "    balanced_error_rate = 1 - (0.5 * (t_p_r + t_n_r))\n",
    "\n",
    "    return balanced_error_rate"
   ]
  },
  {
   "cell_type": "code",
   "execution_count": 3,
   "metadata": {},
   "outputs": [
    {
     "name": "stdout",
     "output_type": "stream",
     "text": [
      "The accuracy of the logistic regression is 0.9666776641372484\n",
      "The balanced error rate of the regression is 0.48090427704028005\n"
     ]
    }
   ],
   "source": [
    "print(f\"The accuracy of the logistic regression is {accuracy}\")\n",
    "print(f\"The balanced error rate of the regression is {find_ber(predictions, y)}\")"
   ]
  },
  {
   "cell_type": "markdown",
   "metadata": {},
   "source": [
    "### Part 2"
   ]
  },
  {
   "cell_type": "code",
   "execution_count": 4,
   "metadata": {},
   "outputs": [],
   "source": [
    "reg = LogisticRegression(class_weight=\"balanced\")\n",
    "reg.fit(X, y)\n",
    "\n",
    "predictions = reg.predict(X)\n",
    "correctPredictions = predictions == y\n",
    "accuracy = sum(correctPredictions) / len(correctPredictions)"
   ]
  },
  {
   "cell_type": "code",
   "execution_count": 5,
   "metadata": {},
   "outputs": [
    {
     "name": "stdout",
     "output_type": "stream",
     "text": [
      "The accuracy of the logistic regression is 0.7815902342461234\n",
      "The balanced error rate of the regression is 0.20763293367876345\n"
     ]
    }
   ],
   "source": [
    "print(f\"The accuracy of the logistic regression is {accuracy}\")\n",
    "print(f\"The balanced error rate of the regression is {find_ber(predictions, y)}\")"
   ]
  },
  {
   "cell_type": "markdown",
   "metadata": {},
   "source": [
    "### Part 3"
   ]
  },
  {
   "cell_type": "code",
   "execution_count": 33,
   "metadata": {},
   "outputs": [],
   "source": [
    "import random\n",
    "\n",
    "random.shuffle(dataset)\n",
    "X = [values[:-1] for values in dataset]\n",
    "y = [values[-1] for values in dataset]\n",
    "\n",
    "X_train = X[: int(0.5 * len(X))]\n",
    "X_val = X[int(0.5 * len(X)) : int(0.75 * len(X))]\n",
    "X_test = X[int(0.75 * len(X)) :]\n",
    "\n",
    "y_train = y[: int(0.5 * len(y))]\n",
    "y_val = y[int(0.5 * len(y)) : int(0.75 * len(y))]\n",
    "y_test = y[int(0.75 * len(y)) :]\n",
    "\n",
    "reg = LogisticRegression(class_weight=\"balanced\")\n",
    "reg.fit(X_train, y_train)\n",
    "predictions_train = reg.predict(X_train)\n",
    "predictions_test = reg.predict(X_test)\n",
    "predictions_val = reg.predict(X_val)\n",
    "\n",
    "correctPredictions_train = predictions_train == y_train\n",
    "correctPredictions_test = predictions_test == y_test\n",
    "correctPredictions_val = predictions_val == y_val\n",
    "\n",
    "accuracy_train = sum(correctPredictions_train) / len(correctPredictions_train)\n",
    "accuracy_test = sum(correctPredictions_test) / len(correctPredictions_test)\n",
    "accuracy_val = sum(correctPredictions_val) / len(correctPredictions_val)"
   ]
  },
  {
   "cell_type": "code",
   "execution_count": 34,
   "metadata": {},
   "outputs": [
    {
     "name": "stdout",
     "output_type": "stream",
     "text": [
      "Training accuracy = 0.8171617161716171, Testing accuracy = 0.7810026385224275, Validation accuracy = 0.7849604221635884\n"
     ]
    }
   ],
   "source": [
    "print(\n",
    "    f\"Training accuracy = {accuracy_train}, Testing accuracy = {accuracy_test}, Validation accuracy = {accuracy_val}\"\n",
    ")"
   ]
  },
  {
   "cell_type": "code",
   "execution_count": 35,
   "metadata": {},
   "outputs": [
    {
     "name": "stdout",
     "output_type": "stream",
     "text": [
      "BER for training set is 0.19112627986348119\n",
      "BER for test set is 0.27429609445958225\n",
      "BER for validation set is 0.19750489236790614\n"
     ]
    }
   ],
   "source": [
    "print(f\"BER for training set is {find_ber(predictions_train, y_train)}\")\n",
    "print(f\"BER for test set is {find_ber(predictions_test, y_test)}\")\n",
    "print(f\"BER for validation set is {find_ber(predictions_val, y_val)}\")"
   ]
  },
  {
   "cell_type": "markdown",
   "metadata": {},
   "source": [
    "### Part 4"
   ]
  },
  {
   "cell_type": "code",
   "execution_count": 85,
   "metadata": {},
   "outputs": [],
   "source": [
    "import seaborn as sns\n",
    "import matplotlib.pyplot as plt\n",
    "\n",
    "train_ber = []\n",
    "test_ber = []\n",
    "val_ber = []\n",
    "c_list = []\n",
    "\n",
    "random.shuffle(dataset)\n",
    "\n",
    "for i in range(-4, 5):\n",
    "    X = [values[:-1] for values in dataset]\n",
    "    y = [values[-1] for values in dataset]\n",
    "\n",
    "    X_train = X[: int(0.5 * len(X))]\n",
    "    X_val = X[int(0.5 * len(X)) : int(0.75 * len(X))]\n",
    "    X_test = X[int(0.75 * len(X)) :]\n",
    "\n",
    "    y_train = y[: int(0.5 * len(y))]\n",
    "    y_val = y[int(0.5 * len(y)) : int(0.75 * len(y))]\n",
    "    y_test = y[int(0.75 * len(y)) :]\n",
    "\n",
    "    reg = LogisticRegression(class_weight=\"balanced\", C=10**i)\n",
    "    c_list.append(i)\n",
    "    reg.fit(X_train, y_train)\n",
    "    predictions_train = reg.predict(X_train)\n",
    "    predictions_test = reg.predict(X_test)\n",
    "    predictions_val = reg.predict(X_val)\n",
    "\n",
    "    train_ber.append(find_ber(predictions_train, y_train))\n",
    "    test_ber.append(find_ber(predictions_test, y_test))\n",
    "    val_ber.append(find_ber(predictions_val, y_val))"
   ]
  },
  {
   "cell_type": "code",
   "execution_count": 86,
   "metadata": {},
   "outputs": [
    {
     "name": "stdout",
     "output_type": "stream",
     "text": [
      "   Training_BER  Test_BER  Validation_BER  Regularization_Exponent\n",
      "0      0.244962  0.249901        0.357479                       -4\n",
      "1      0.223724  0.203620        0.275081                       -3\n",
      "2      0.179843  0.205644        0.226694                       -2\n",
      "3      0.181554  0.172859        0.240760                       -1\n",
      "4      0.212412  0.202945        0.279208                        0\n",
      "5      0.246007  0.206994        0.318343                        1\n",
      "6      0.198019  0.199571        0.290522                        2\n",
      "7      0.218249  0.201596        0.277832                        3\n",
      "8      0.204883  0.203620        0.258264                        4\n"
     ]
    },
    {
     "data": {
      "text/plain": [
       "<matplotlib.legend.Legend at 0x7f350966fef0>"
      ]
     },
     "execution_count": 86,
     "metadata": {},
     "output_type": "execute_result"
    },
    {
     "data": {
      "image/png": "[encoded data removed]",
      "text/plain": [
       "<Figure size 432x288 with 1 Axes>"
      ]
     },
     "metadata": {
      "needs_background": "light"
     },
     "output_type": "display_data"
    }
   ],
   "source": [
    "accuracy_df = pd.DataFrame(\n",
    "    list(zip(train_ber, test_ber, val_ber, c_list)),\n",
    "    columns=[\"Training_BER\", \"Test_BER\", \"Validation_BER\", \"Regularization_Exponent\"],\n",
    ")\n",
    "print(accuracy_df)\n",
    "sns.lineplot(x=\"Regularization_Exponent\", y=\"Training_BER\", data=accuracy_df, label='Training')\n",
    "sns.lineplot(x=\"Regularization_Exponent\", y=\"Test_BER\", data=accuracy_df, label='Test')\n",
    "sns.lineplot(x=\"Regularization_Exponent\", y=\"Validation_BER\", data=accuracy_df, label='Validation')\n",
    "plt.ylabel('BER')\n",
    "plt.legend(bbox_to_anchor=(1.05, 1), loc='upper left', borderaxespad=0.)"
   ]
  },
  {
   "cell_type": "code",
   "execution_count": 109,
   "metadata": {},
   "outputs": [
    {
     "data": {
      "text/html": [
       "<div>\n",
       "<style scoped>\n",
       "    .dataframe tbody tr th:only-of-type {\n",
       "        vertical-align: middle;\n",
       "    }\n",
       "\n",
       "    .dataframe tbody tr th {\n",
       "        vertical-align: top;\n",
       "    }\n",
       "\n",
       "    .dataframe thead th {\n",
       "        text-align: right;\n",
       "    }\n",
       "</style>\n",
       "<table border=\"1\" class=\"dataframe\">\n",
       "  <thead>\n",
       "    <tr style=\"text-align: right;\">\n",
       "      <th></th>\n",
       "      <th>Training_BER</th>\n",
       "      <th>Test_BER</th>\n",
       "      <th>Validation_BER</th>\n",
       "      <th>Regularization_Exponent</th>\n",
       "    </tr>\n",
       "  </thead>\n",
       "  <tbody>\n",
       "    <tr>\n",
       "      <td>2</td>\n",
       "      <td>0.179843</td>\n",
       "      <td>0.205644</td>\n",
       "      <td>0.226694</td>\n",
       "      <td>-2</td>\n",
       "    </tr>\n",
       "  </tbody>\n",
       "</table>\n",
       "</div>"
      ],
      "text/plain": [
       "   Training_BER  Test_BER  Validation_BER  Regularization_Exponent\n",
       "2      0.179843  0.205644        0.226694                       -2"
      ]
     },
     "execution_count": 109,
     "metadata": {},
     "output_type": "execute_result"
    }
   ],
   "source": [
    "accuracy_df[accuracy_df.Validation_BER == accuracy_df.Validation_BER.min()]"
   ]
  },
  {
   "cell_type": "markdown",
   "metadata": {},
   "source": [
    "While we were not implementing a typical regularization pipline, our goal was to minimize validation BER and we can say that the exponent -2 accomplished this (C= 10^-2). This means that the optimal C value for our dataset is C=10^-2. In contrast to most machine learning problems, we are not using this model for further testing on unseen data. For this reason, we are simply using a regularization pipeline to mimic parameter tuning. This C value is subject to change, since our dataset with be randomized every time we run the above code chunk. "
   ]
  },
  {
   "cell_type": "markdown",
   "metadata": {},
   "source": [
    "### Part 5"
   ]
  },
  {
   "cell_type": "code",
   "execution_count": 118,
   "metadata": {},
   "outputs": [],
   "source": [
    "random.shuffle(dataset)\n",
    "X = [values[:-1] for values in dataset]\n",
    "y = [values[-1] for values in dataset]\n",
    "\n",
    "X_train = X[: int(0.5 * len(X))]\n",
    "X_val = X[int(0.5 * len(X)) : int(0.75 * len(X))]\n",
    "X_test = X[int(0.75 * len(X)) :]\n",
    "\n",
    "y_train = y[: int(0.5 * len(y))]\n",
    "y_val = y[int(0.5 * len(y)) : int(0.75 * len(y))]\n",
    "y_test = y[int(0.75 * len(y)) :]\n",
    "\n",
    "reg = LogisticRegression(class_weight=\"balanced\", C=1.0)\n",
    "reg.fit(X_train, y_train)\n",
    "predictions = reg.predict(X_test)\n",
    "\n",
    "f_beta_list=[]\n",
    "f_beta_list.append(fbeta_score(y_test, predictions, beta=.1))\n",
    "f_beta_list.append(fbeta_score(y_test, predictions, beta=1))                \n",
    "f_beta_list.append(fbeta_score(y_test, predictions, beta=10))"
   ]
  },
  {
   "cell_type": "code",
   "execution_count": 119,
   "metadata": {},
   "outputs": [
    {
     "data": {
      "text/plain": [
       "[0.08350292546425846, 0.143646408839779, 0.5134923738756355]"
      ]
     },
     "execution_count": 119,
     "metadata": {},
     "output_type": "execute_result"
    }
   ],
   "source": [
    "f_beta_list"
   ]
  },
  {
   "cell_type": "markdown",
   "metadata": {},
   "source": [
    "### Part 6"
   ]
  },
  {
   "cell_type": "code",
   "execution_count": 166,
   "metadata": {},
   "outputs": [],
   "source": [
    "X_train = X[: int(0.5 * len(X))]\n",
    "X_val = X[int(0.5 * len(X)) : int(0.75 * len(X))]\n",
    "X_test = X[int(0.75 * len(X)) :]\n",
    "\n",
    "y_train = y[: int(0.5 * len(y))]\n",
    "y_val = y[int(0.5 * len(y)) : int(0.75 * len(y))]\n",
    "y_test = y[int(0.75 * len(y)) :]\n",
    "\n",
    "weights = [1.0] * len(y_train)\n",
    "reg = LogisticRegression(C=1.0, solver='lbfgs')\n",
    "reg.fit(X_train, y_train, sample_weight=weights)\n",
    "predictions = reg.predict(X_test)\n",
    "\n",
    "f_score_list = []\n",
    "f1_unweighted = fbeta_score(y_test, predictions, beta=1)\n",
    "f10_unweighted = fbeta_score(y_test, predictions, beta=10)\n",
    "f_score_list.append(f1_unweighted)\n",
    "f_score_list.append(f10_unweighted)"
   ]
  },
  {
   "cell_type": "code",
   "execution_count": 167,
   "metadata": {},
   "outputs": [
    {
     "name": "stdout",
     "output_type": "stream",
     "text": [
      "The unweighted F1 score is 0.07142857142857142 while F10 score is 0.04201331114808652\n"
     ]
    }
   ],
   "source": [
    "print(f\"The unweighted F1 score is {f_score_list[0]} while F10 score is {f_score_list[1]}\")"
   ]
  },
  {
   "cell_type": "code",
   "execution_count": 176,
   "metadata": {},
   "outputs": [],
   "source": [
    "from sklearn.metrics import fbeta_score\n",
    "\n",
    "weight_list = []\n",
    "f1_score_weighted = []\n",
    "f10_score_weighted = []\n",
    "for x in range(2, 31):\n",
    "    weighted = [float(x) if y_train[i]==True else float(1) for i in range(len(y_train))]\n",
    "    mod = LogisticRegression(C=1, solver=\"lbfgs\")\n",
    "    mod.fit(X_train, y_train, sample_weight=weighted)\n",
    "    predictions_weights = mod.predict(X_test)\n",
    "\n",
    "    f1_weighted = fbeta_score(y_test, predictions_weights, beta=1)\n",
    "    f10_beta_weighted = fbeta_score(y_test, predictions_weights, beta=10)\n",
    "    weight_list.append(x)\n",
    "    f1_score_weighted.append(f1_weighted)\n",
    "    f10_score_weighted.append(f10_beta_weighted)"
   ]
  },
  {
   "cell_type": "code",
   "execution_count": 177,
   "metadata": {},
   "outputs": [],
   "source": [
    "f_score = pd.DataFrame(\n",
    "    list(zip(weight_list, f1_score_weighted, f10_score_weighted)),\n",
    "    columns=[\"Weight\", \"F1_Score\", \"F10_Score\"],)"
   ]
  },
  {
   "cell_type": "code",
   "execution_count": 178,
   "metadata": {},
   "outputs": [
    {
     "data": {
      "text/html": [
       "<div>\n",
       "<style scoped>\n",
       "    .dataframe tbody tr th:only-of-type {\n",
       "        vertical-align: middle;\n",
       "    }\n",
       "\n",
       "    .dataframe tbody tr th {\n",
       "        vertical-align: top;\n",
       "    }\n",
       "\n",
       "    .dataframe thead th {\n",
       "        text-align: right;\n",
       "    }\n",
       "</style>\n",
       "<table border=\"1\" class=\"dataframe\">\n",
       "  <thead>\n",
       "    <tr style=\"text-align: right;\">\n",
       "      <th></th>\n",
       "      <th>Weight</th>\n",
       "      <th>F1_Score</th>\n",
       "      <th>F10_Score</th>\n",
       "    </tr>\n",
       "  </thead>\n",
       "  <tbody>\n",
       "    <tr>\n",
       "      <td>0</td>\n",
       "      <td>2</td>\n",
       "      <td>0.114286</td>\n",
       "      <td>0.083783</td>\n",
       "    </tr>\n",
       "    <tr>\n",
       "      <td>1</td>\n",
       "      <td>3</td>\n",
       "      <td>0.108108</td>\n",
       "      <td>0.083713</td>\n",
       "    </tr>\n",
       "    <tr>\n",
       "      <td>2</td>\n",
       "      <td>4</td>\n",
       "      <td>0.095238</td>\n",
       "      <td>0.083540</td>\n",
       "    </tr>\n",
       "    <tr>\n",
       "      <td>3</td>\n",
       "      <td>5</td>\n",
       "      <td>0.095238</td>\n",
       "      <td>0.083540</td>\n",
       "    </tr>\n",
       "    <tr>\n",
       "      <td>4</td>\n",
       "      <td>6</td>\n",
       "      <td>0.117647</td>\n",
       "      <td>0.124845</td>\n",
       "    </tr>\n",
       "    <tr>\n",
       "      <td>5</td>\n",
       "      <td>7</td>\n",
       "      <td>0.156863</td>\n",
       "      <td>0.166461</td>\n",
       "    </tr>\n",
       "    <tr>\n",
       "      <td>6</td>\n",
       "      <td>8</td>\n",
       "      <td>0.126984</td>\n",
       "      <td>0.165642</td>\n",
       "    </tr>\n",
       "    <tr>\n",
       "      <td>7</td>\n",
       "      <td>9</td>\n",
       "      <td>0.121212</td>\n",
       "      <td>0.165438</td>\n",
       "    </tr>\n",
       "    <tr>\n",
       "      <td>8</td>\n",
       "      <td>10</td>\n",
       "      <td>0.121212</td>\n",
       "      <td>0.165438</td>\n",
       "    </tr>\n",
       "    <tr>\n",
       "      <td>9</td>\n",
       "      <td>11</td>\n",
       "      <td>0.111111</td>\n",
       "      <td>0.165033</td>\n",
       "    </tr>\n",
       "    <tr>\n",
       "      <td>10</td>\n",
       "      <td>12</td>\n",
       "      <td>0.098765</td>\n",
       "      <td>0.164428</td>\n",
       "    </tr>\n",
       "    <tr>\n",
       "      <td>11</td>\n",
       "      <td>13</td>\n",
       "      <td>0.098765</td>\n",
       "      <td>0.164428</td>\n",
       "    </tr>\n",
       "    <tr>\n",
       "      <td>12</td>\n",
       "      <td>14</td>\n",
       "      <td>0.093023</td>\n",
       "      <td>0.164094</td>\n",
       "    </tr>\n",
       "    <tr>\n",
       "      <td>13</td>\n",
       "      <td>15</td>\n",
       "      <td>0.093023</td>\n",
       "      <td>0.164094</td>\n",
       "    </tr>\n",
       "    <tr>\n",
       "      <td>14</td>\n",
       "      <td>16</td>\n",
       "      <td>0.104167</td>\n",
       "      <td>0.204288</td>\n",
       "    </tr>\n",
       "    <tr>\n",
       "      <td>15</td>\n",
       "      <td>17</td>\n",
       "      <td>0.096154</td>\n",
       "      <td>0.203629</td>\n",
       "    </tr>\n",
       "    <tr>\n",
       "      <td>16</td>\n",
       "      <td>18</td>\n",
       "      <td>0.106195</td>\n",
       "      <td>0.243471</td>\n",
       "    </tr>\n",
       "    <tr>\n",
       "      <td>17</td>\n",
       "      <td>19</td>\n",
       "      <td>0.109375</td>\n",
       "      <td>0.282348</td>\n",
       "    </tr>\n",
       "    <tr>\n",
       "      <td>18</td>\n",
       "      <td>20</td>\n",
       "      <td>0.125984</td>\n",
       "      <td>0.322813</td>\n",
       "    </tr>\n",
       "    <tr>\n",
       "      <td>19</td>\n",
       "      <td>21</td>\n",
       "      <td>0.108527</td>\n",
       "      <td>0.282236</td>\n",
       "    </tr>\n",
       "    <tr>\n",
       "      <td>20</td>\n",
       "      <td>22</td>\n",
       "      <td>0.125000</td>\n",
       "      <td>0.360714</td>\n",
       "    </tr>\n",
       "    <tr>\n",
       "      <td>21</td>\n",
       "      <td>23</td>\n",
       "      <td>0.119205</td>\n",
       "      <td>0.359715</td>\n",
       "    </tr>\n",
       "    <tr>\n",
       "      <td>22</td>\n",
       "      <td>24</td>\n",
       "      <td>0.116883</td>\n",
       "      <td>0.359289</td>\n",
       "    </tr>\n",
       "    <tr>\n",
       "      <td>23</td>\n",
       "      <td>25</td>\n",
       "      <td>0.101695</td>\n",
       "      <td>0.356052</td>\n",
       "    </tr>\n",
       "    <tr>\n",
       "      <td>24</td>\n",
       "      <td>26</td>\n",
       "      <td>0.104046</td>\n",
       "      <td>0.356610</td>\n",
       "    </tr>\n",
       "    <tr>\n",
       "      <td>25</td>\n",
       "      <td>27</td>\n",
       "      <td>0.101523</td>\n",
       "      <td>0.392538</td>\n",
       "    </tr>\n",
       "    <tr>\n",
       "      <td>26</td>\n",
       "      <td>28</td>\n",
       "      <td>0.099502</td>\n",
       "      <td>0.391929</td>\n",
       "    </tr>\n",
       "    <tr>\n",
       "      <td>27</td>\n",
       "      <td>29</td>\n",
       "      <td>0.108949</td>\n",
       "      <td>0.537030</td>\n",
       "    </tr>\n",
       "    <tr>\n",
       "      <td>28</td>\n",
       "      <td>30</td>\n",
       "      <td>0.096618</td>\n",
       "      <td>0.391018</td>\n",
       "    </tr>\n",
       "  </tbody>\n",
       "</table>\n",
       "</div>"
      ],
      "text/plain": [
       "    Weight  F1_Score  F10_Score\n",
       "0        2  0.114286   0.083783\n",
       "1        3  0.108108   0.083713\n",
       "2        4  0.095238   0.083540\n",
       "3        5  0.095238   0.083540\n",
       "4        6  0.117647   0.124845\n",
       "5        7  0.156863   0.166461\n",
       "6        8  0.126984   0.165642\n",
       "7        9  0.121212   0.165438\n",
       "8       10  0.121212   0.165438\n",
       "9       11  0.111111   0.165033\n",
       "10      12  0.098765   0.164428\n",
       "11      13  0.098765   0.164428\n",
       "12      14  0.093023   0.164094\n",
       "13      15  0.093023   0.164094\n",
       "14      16  0.104167   0.204288\n",
       "15      17  0.096154   0.203629\n",
       "16      18  0.106195   0.243471\n",
       "17      19  0.109375   0.282348\n",
       "18      20  0.125984   0.322813\n",
       "19      21  0.108527   0.282236\n",
       "20      22  0.125000   0.360714\n",
       "21      23  0.119205   0.359715\n",
       "22      24  0.116883   0.359289\n",
       "23      25  0.101695   0.356052\n",
       "24      26  0.104046   0.356610\n",
       "25      27  0.101523   0.392538\n",
       "26      28  0.099502   0.391929\n",
       "27      29  0.108949   0.537030\n",
       "28      30  0.096618   0.391018"
      ]
     },
     "execution_count": 178,
     "metadata": {},
     "output_type": "execute_result"
    }
   ],
   "source": [
    "f_score"
   ]
  },
  {
   "cell_type": "code",
   "execution_count": 179,
   "metadata": {},
   "outputs": [
    {
     "data": {
      "text/plain": [
       "<matplotlib.axes._subplots.AxesSubplot at 0x7f3508bd9278>"
      ]
     },
     "execution_count": 179,
     "metadata": {},
     "output_type": "execute_result"
    },
    {
     "data": {
      "image/png": "[encoded data removed]",
      "text/plain": [
       "<Figure size 432x288 with 1 Axes>"
      ]
     },
     "metadata": {
      "needs_background": "light"
     },
     "output_type": "display_data"
    }
   ],
   "source": [
    "sns.lineplot(x=\"Weight\", y=\"F1_Score\", data=f_score)"
   ]
  },
  {
   "cell_type": "code",
   "execution_count": 180,
   "metadata": {},
   "outputs": [
    {
     "data": {
      "text/plain": [
       "<matplotlib.axes._subplots.AxesSubplot at 0x7f3508d97860>"
      ]
     },
     "execution_count": 180,
     "metadata": {},
     "output_type": "execute_result"
    },
    {
     "data": {
      "image/png": "[encoded data removed]",
      "text/plain": [
       "<Figure size 432x288 with 1 Axes>"
      ]
     },
     "metadata": {
      "needs_background": "light"
     },
     "output_type": "display_data"
    }
   ],
   "source": [
    "sns.lineplot(x=\"Weight\", y=\"F10_Score\", data=f_score)"
   ]
  },
  {
   "cell_type": "code",
   "execution_count": 182,
   "metadata": {},
   "outputs": [
    {
     "data": {
      "text/html": [
       "<div>\n",
       "<style scoped>\n",
       "    .dataframe tbody tr th:only-of-type {\n",
       "        vertical-align: middle;\n",
       "    }\n",
       "\n",
       "    .dataframe tbody tr th {\n",
       "        vertical-align: top;\n",
       "    }\n",
       "\n",
       "    .dataframe thead th {\n",
       "        text-align: right;\n",
       "    }\n",
       "</style>\n",
       "<table border=\"1\" class=\"dataframe\">\n",
       "  <thead>\n",
       "    <tr style=\"text-align: right;\">\n",
       "      <th></th>\n",
       "      <th>Weight</th>\n",
       "      <th>F1_Score</th>\n",
       "      <th>F10_Score</th>\n",
       "    </tr>\n",
       "  </thead>\n",
       "  <tbody>\n",
       "    <tr>\n",
       "      <td>0</td>\n",
       "      <td>2</td>\n",
       "      <td>0.114286</td>\n",
       "      <td>0.083783</td>\n",
       "    </tr>\n",
       "    <tr>\n",
       "      <td>1</td>\n",
       "      <td>3</td>\n",
       "      <td>0.108108</td>\n",
       "      <td>0.083713</td>\n",
       "    </tr>\n",
       "    <tr>\n",
       "      <td>2</td>\n",
       "      <td>4</td>\n",
       "      <td>0.095238</td>\n",
       "      <td>0.083540</td>\n",
       "    </tr>\n",
       "    <tr>\n",
       "      <td>3</td>\n",
       "      <td>5</td>\n",
       "      <td>0.095238</td>\n",
       "      <td>0.083540</td>\n",
       "    </tr>\n",
       "    <tr>\n",
       "      <td>4</td>\n",
       "      <td>6</td>\n",
       "      <td>0.117647</td>\n",
       "      <td>0.124845</td>\n",
       "    </tr>\n",
       "    <tr>\n",
       "      <td>5</td>\n",
       "      <td>7</td>\n",
       "      <td>0.156863</td>\n",
       "      <td>0.166461</td>\n",
       "    </tr>\n",
       "    <tr>\n",
       "      <td>6</td>\n",
       "      <td>8</td>\n",
       "      <td>0.126984</td>\n",
       "      <td>0.165642</td>\n",
       "    </tr>\n",
       "    <tr>\n",
       "      <td>7</td>\n",
       "      <td>9</td>\n",
       "      <td>0.121212</td>\n",
       "      <td>0.165438</td>\n",
       "    </tr>\n",
       "    <tr>\n",
       "      <td>8</td>\n",
       "      <td>10</td>\n",
       "      <td>0.121212</td>\n",
       "      <td>0.165438</td>\n",
       "    </tr>\n",
       "    <tr>\n",
       "      <td>9</td>\n",
       "      <td>11</td>\n",
       "      <td>0.111111</td>\n",
       "      <td>0.165033</td>\n",
       "    </tr>\n",
       "    <tr>\n",
       "      <td>10</td>\n",
       "      <td>12</td>\n",
       "      <td>0.098765</td>\n",
       "      <td>0.164428</td>\n",
       "    </tr>\n",
       "    <tr>\n",
       "      <td>11</td>\n",
       "      <td>13</td>\n",
       "      <td>0.098765</td>\n",
       "      <td>0.164428</td>\n",
       "    </tr>\n",
       "    <tr>\n",
       "      <td>12</td>\n",
       "      <td>14</td>\n",
       "      <td>0.093023</td>\n",
       "      <td>0.164094</td>\n",
       "    </tr>\n",
       "    <tr>\n",
       "      <td>13</td>\n",
       "      <td>15</td>\n",
       "      <td>0.093023</td>\n",
       "      <td>0.164094</td>\n",
       "    </tr>\n",
       "    <tr>\n",
       "      <td>14</td>\n",
       "      <td>16</td>\n",
       "      <td>0.104167</td>\n",
       "      <td>0.204288</td>\n",
       "    </tr>\n",
       "    <tr>\n",
       "      <td>15</td>\n",
       "      <td>17</td>\n",
       "      <td>0.096154</td>\n",
       "      <td>0.203629</td>\n",
       "    </tr>\n",
       "    <tr>\n",
       "      <td>16</td>\n",
       "      <td>18</td>\n",
       "      <td>0.106195</td>\n",
       "      <td>0.243471</td>\n",
       "    </tr>\n",
       "    <tr>\n",
       "      <td>17</td>\n",
       "      <td>19</td>\n",
       "      <td>0.109375</td>\n",
       "      <td>0.282348</td>\n",
       "    </tr>\n",
       "    <tr>\n",
       "      <td>18</td>\n",
       "      <td>20</td>\n",
       "      <td>0.125984</td>\n",
       "      <td>0.322813</td>\n",
       "    </tr>\n",
       "    <tr>\n",
       "      <td>19</td>\n",
       "      <td>21</td>\n",
       "      <td>0.108527</td>\n",
       "      <td>0.282236</td>\n",
       "    </tr>\n",
       "    <tr>\n",
       "      <td>20</td>\n",
       "      <td>22</td>\n",
       "      <td>0.125000</td>\n",
       "      <td>0.360714</td>\n",
       "    </tr>\n",
       "    <tr>\n",
       "      <td>21</td>\n",
       "      <td>23</td>\n",
       "      <td>0.119205</td>\n",
       "      <td>0.359715</td>\n",
       "    </tr>\n",
       "    <tr>\n",
       "      <td>22</td>\n",
       "      <td>24</td>\n",
       "      <td>0.116883</td>\n",
       "      <td>0.359289</td>\n",
       "    </tr>\n",
       "    <tr>\n",
       "      <td>23</td>\n",
       "      <td>25</td>\n",
       "      <td>0.101695</td>\n",
       "      <td>0.356052</td>\n",
       "    </tr>\n",
       "    <tr>\n",
       "      <td>24</td>\n",
       "      <td>26</td>\n",
       "      <td>0.104046</td>\n",
       "      <td>0.356610</td>\n",
       "    </tr>\n",
       "    <tr>\n",
       "      <td>25</td>\n",
       "      <td>27</td>\n",
       "      <td>0.101523</td>\n",
       "      <td>0.392538</td>\n",
       "    </tr>\n",
       "    <tr>\n",
       "      <td>26</td>\n",
       "      <td>28</td>\n",
       "      <td>0.099502</td>\n",
       "      <td>0.391929</td>\n",
       "    </tr>\n",
       "    <tr>\n",
       "      <td>27</td>\n",
       "      <td>29</td>\n",
       "      <td>0.108949</td>\n",
       "      <td>0.537030</td>\n",
       "    </tr>\n",
       "    <tr>\n",
       "      <td>28</td>\n",
       "      <td>30</td>\n",
       "      <td>0.096618</td>\n",
       "      <td>0.391018</td>\n",
       "    </tr>\n",
       "  </tbody>\n",
       "</table>\n",
       "</div>"
      ],
      "text/plain": [
       "    Weight  F1_Score  F10_Score\n",
       "0        2  0.114286   0.083783\n",
       "1        3  0.108108   0.083713\n",
       "2        4  0.095238   0.083540\n",
       "3        5  0.095238   0.083540\n",
       "4        6  0.117647   0.124845\n",
       "5        7  0.156863   0.166461\n",
       "6        8  0.126984   0.165642\n",
       "7        9  0.121212   0.165438\n",
       "8       10  0.121212   0.165438\n",
       "9       11  0.111111   0.165033\n",
       "10      12  0.098765   0.164428\n",
       "11      13  0.098765   0.164428\n",
       "12      14  0.093023   0.164094\n",
       "13      15  0.093023   0.164094\n",
       "14      16  0.104167   0.204288\n",
       "15      17  0.096154   0.203629\n",
       "16      18  0.106195   0.243471\n",
       "17      19  0.109375   0.282348\n",
       "18      20  0.125984   0.322813\n",
       "19      21  0.108527   0.282236\n",
       "20      22  0.125000   0.360714\n",
       "21      23  0.119205   0.359715\n",
       "22      24  0.116883   0.359289\n",
       "23      25  0.101695   0.356052\n",
       "24      26  0.104046   0.356610\n",
       "25      27  0.101523   0.392538\n",
       "26      28  0.099502   0.391929\n",
       "27      29  0.108949   0.537030\n",
       "28      30  0.096618   0.391018"
      ]
     },
     "execution_count": 182,
     "metadata": {},
     "output_type": "execute_result"
    }
   ],
   "source": [
    "f_score[f_score.F1_Score>f_score_list[0]]"
   ]
  },
  {
   "cell_type": "code",
   "execution_count": 183,
   "metadata": {},
   "outputs": [
    {
     "data": {
      "text/html": [
       "<div>\n",
       "<style scoped>\n",
       "    .dataframe tbody tr th:only-of-type {\n",
       "        vertical-align: middle;\n",
       "    }\n",
       "\n",
       "    .dataframe tbody tr th {\n",
       "        vertical-align: top;\n",
       "    }\n",
       "\n",
       "    .dataframe thead th {\n",
       "        text-align: right;\n",
       "    }\n",
       "</style>\n",
       "<table border=\"1\" class=\"dataframe\">\n",
       "  <thead>\n",
       "    <tr style=\"text-align: right;\">\n",
       "      <th></th>\n",
       "      <th>Weight</th>\n",
       "      <th>F1_Score</th>\n",
       "      <th>F10_Score</th>\n",
       "    </tr>\n",
       "  </thead>\n",
       "  <tbody>\n",
       "    <tr>\n",
       "      <td>0</td>\n",
       "      <td>2</td>\n",
       "      <td>0.114286</td>\n",
       "      <td>0.083783</td>\n",
       "    </tr>\n",
       "    <tr>\n",
       "      <td>1</td>\n",
       "      <td>3</td>\n",
       "      <td>0.108108</td>\n",
       "      <td>0.083713</td>\n",
       "    </tr>\n",
       "    <tr>\n",
       "      <td>2</td>\n",
       "      <td>4</td>\n",
       "      <td>0.095238</td>\n",
       "      <td>0.083540</td>\n",
       "    </tr>\n",
       "    <tr>\n",
       "      <td>3</td>\n",
       "      <td>5</td>\n",
       "      <td>0.095238</td>\n",
       "      <td>0.083540</td>\n",
       "    </tr>\n",
       "    <tr>\n",
       "      <td>4</td>\n",
       "      <td>6</td>\n",
       "      <td>0.117647</td>\n",
       "      <td>0.124845</td>\n",
       "    </tr>\n",
       "    <tr>\n",
       "      <td>5</td>\n",
       "      <td>7</td>\n",
       "      <td>0.156863</td>\n",
       "      <td>0.166461</td>\n",
       "    </tr>\n",
       "    <tr>\n",
       "      <td>6</td>\n",
       "      <td>8</td>\n",
       "      <td>0.126984</td>\n",
       "      <td>0.165642</td>\n",
       "    </tr>\n",
       "    <tr>\n",
       "      <td>7</td>\n",
       "      <td>9</td>\n",
       "      <td>0.121212</td>\n",
       "      <td>0.165438</td>\n",
       "    </tr>\n",
       "    <tr>\n",
       "      <td>8</td>\n",
       "      <td>10</td>\n",
       "      <td>0.121212</td>\n",
       "      <td>0.165438</td>\n",
       "    </tr>\n",
       "    <tr>\n",
       "      <td>9</td>\n",
       "      <td>11</td>\n",
       "      <td>0.111111</td>\n",
       "      <td>0.165033</td>\n",
       "    </tr>\n",
       "    <tr>\n",
       "      <td>10</td>\n",
       "      <td>12</td>\n",
       "      <td>0.098765</td>\n",
       "      <td>0.164428</td>\n",
       "    </tr>\n",
       "    <tr>\n",
       "      <td>11</td>\n",
       "      <td>13</td>\n",
       "      <td>0.098765</td>\n",
       "      <td>0.164428</td>\n",
       "    </tr>\n",
       "    <tr>\n",
       "      <td>12</td>\n",
       "      <td>14</td>\n",
       "      <td>0.093023</td>\n",
       "      <td>0.164094</td>\n",
       "    </tr>\n",
       "    <tr>\n",
       "      <td>13</td>\n",
       "      <td>15</td>\n",
       "      <td>0.093023</td>\n",
       "      <td>0.164094</td>\n",
       "    </tr>\n",
       "    <tr>\n",
       "      <td>14</td>\n",
       "      <td>16</td>\n",
       "      <td>0.104167</td>\n",
       "      <td>0.204288</td>\n",
       "    </tr>\n",
       "    <tr>\n",
       "      <td>15</td>\n",
       "      <td>17</td>\n",
       "      <td>0.096154</td>\n",
       "      <td>0.203629</td>\n",
       "    </tr>\n",
       "    <tr>\n",
       "      <td>16</td>\n",
       "      <td>18</td>\n",
       "      <td>0.106195</td>\n",
       "      <td>0.243471</td>\n",
       "    </tr>\n",
       "    <tr>\n",
       "      <td>17</td>\n",
       "      <td>19</td>\n",
       "      <td>0.109375</td>\n",
       "      <td>0.282348</td>\n",
       "    </tr>\n",
       "    <tr>\n",
       "      <td>18</td>\n",
       "      <td>20</td>\n",
       "      <td>0.125984</td>\n",
       "      <td>0.322813</td>\n",
       "    </tr>\n",
       "    <tr>\n",
       "      <td>19</td>\n",
       "      <td>21</td>\n",
       "      <td>0.108527</td>\n",
       "      <td>0.282236</td>\n",
       "    </tr>\n",
       "    <tr>\n",
       "      <td>20</td>\n",
       "      <td>22</td>\n",
       "      <td>0.125000</td>\n",
       "      <td>0.360714</td>\n",
       "    </tr>\n",
       "    <tr>\n",
       "      <td>21</td>\n",
       "      <td>23</td>\n",
       "      <td>0.119205</td>\n",
       "      <td>0.359715</td>\n",
       "    </tr>\n",
       "    <tr>\n",
       "      <td>22</td>\n",
       "      <td>24</td>\n",
       "      <td>0.116883</td>\n",
       "      <td>0.359289</td>\n",
       "    </tr>\n",
       "    <tr>\n",
       "      <td>23</td>\n",
       "      <td>25</td>\n",
       "      <td>0.101695</td>\n",
       "      <td>0.356052</td>\n",
       "    </tr>\n",
       "    <tr>\n",
       "      <td>24</td>\n",
       "      <td>26</td>\n",
       "      <td>0.104046</td>\n",
       "      <td>0.356610</td>\n",
       "    </tr>\n",
       "    <tr>\n",
       "      <td>25</td>\n",
       "      <td>27</td>\n",
       "      <td>0.101523</td>\n",
       "      <td>0.392538</td>\n",
       "    </tr>\n",
       "    <tr>\n",
       "      <td>26</td>\n",
       "      <td>28</td>\n",
       "      <td>0.099502</td>\n",
       "      <td>0.391929</td>\n",
       "    </tr>\n",
       "    <tr>\n",
       "      <td>27</td>\n",
       "      <td>29</td>\n",
       "      <td>0.108949</td>\n",
       "      <td>0.537030</td>\n",
       "    </tr>\n",
       "    <tr>\n",
       "      <td>28</td>\n",
       "      <td>30</td>\n",
       "      <td>0.096618</td>\n",
       "      <td>0.391018</td>\n",
       "    </tr>\n",
       "  </tbody>\n",
       "</table>\n",
       "</div>"
      ],
      "text/plain": [
       "    Weight  F1_Score  F10_Score\n",
       "0        2  0.114286   0.083783\n",
       "1        3  0.108108   0.083713\n",
       "2        4  0.095238   0.083540\n",
       "3        5  0.095238   0.083540\n",
       "4        6  0.117647   0.124845\n",
       "5        7  0.156863   0.166461\n",
       "6        8  0.126984   0.165642\n",
       "7        9  0.121212   0.165438\n",
       "8       10  0.121212   0.165438\n",
       "9       11  0.111111   0.165033\n",
       "10      12  0.098765   0.164428\n",
       "11      13  0.098765   0.164428\n",
       "12      14  0.093023   0.164094\n",
       "13      15  0.093023   0.164094\n",
       "14      16  0.104167   0.204288\n",
       "15      17  0.096154   0.203629\n",
       "16      18  0.106195   0.243471\n",
       "17      19  0.109375   0.282348\n",
       "18      20  0.125984   0.322813\n",
       "19      21  0.108527   0.282236\n",
       "20      22  0.125000   0.360714\n",
       "21      23  0.119205   0.359715\n",
       "22      24  0.116883   0.359289\n",
       "23      25  0.101695   0.356052\n",
       "24      26  0.104046   0.356610\n",
       "25      27  0.101523   0.392538\n",
       "26      28  0.099502   0.391929\n",
       "27      29  0.108949   0.537030\n",
       "28      30  0.096618   0.391018"
      ]
     },
     "execution_count": 183,
     "metadata": {},
     "output_type": "execute_result"
    }
   ],
   "source": [
    "f_score[f_score.F10_Score>f_score_list[1]]"
   ]
  },
  {
   "cell_type": "markdown",
   "metadata": {},
   "source": [
    "Based on the two code chunks above, the weights that produce the better F1 and F10 scores are listed above. For F1 score, using any weight 2-30 for the positive values gives us better F1 scores than the unweighted regression. For F10 score, also using weights 2-30 gives us better results than unweighted regression. This proves that placing higher weights on positive results will improve the F Score metric.  These results are subject to change, based on the shuffling of the dataset. "
   ]
  },
  {
   "cell_type": "markdown",
   "metadata": {},
   "source": [
    "## Dimensionality Reduction"
   ]
  },
  {
   "cell_type": "markdown",
   "metadata": {},
   "source": [
    "### Part 7"
   ]
  },
  {
   "cell_type": "code",
   "execution_count": 139,
   "metadata": {},
   "outputs": [
    {
     "name": "stdout",
     "output_type": "stream",
     "text": [
      "[-6.08910787e-21  9.70476011e-08 -3.69821441e-07  1.02656604e-06\n",
      "  4.89745625e-06  1.34942085e-03  4.93170366e-08  8.35697514e-07\n",
      "  5.47241014e-06 -5.96020830e-07  4.22958437e-07  2.05459297e-07\n",
      "  1.21170024e-06 -2.30731379e-06  8.35527381e-07 -1.62911250e-03\n",
      "  1.05785352e-06  5.96551609e-06  7.72995795e-07  3.91015428e-07\n",
      "  3.98561127e-05 -5.99412826e-06  1.83216244e-07  3.54088185e-07\n",
      "  6.30842823e-07  8.68448238e-07  9.37757750e-07 -3.45047221e-05\n",
      "  1.57866730e-05  3.32465325e-06 -1.46945516e-06  3.74894515e-07\n",
      " -4.36544058e-04  4.28529164e-06 -1.59760488e-06  1.59698599e-07\n",
      " -8.68508559e-07 -1.58176832e-03  1.76769329e-07  1.91438109e-07\n",
      "  2.27276272e-06 -1.16054959e-06  2.70851120e-07  5.89735234e-05\n",
      "  1.91161378e-05 -1.43715558e-06  3.63368696e-06 -1.59272504e-04\n",
      "  2.27176022e-07  3.53134739e-07  4.10151962e-06 -7.50699312e-07\n",
      " -1.17035208e-06 -7.25503284e-07  1.57717870e-05  9.99996365e-01\n",
      "  2.00525477e-07  1.31817918e-07 -2.65684695e-07 -8.44226826e-08\n",
      " -1.15381299e-04 -8.55290305e-06 -2.38828140e-04  5.51540423e-06\n",
      " -6.21017626e-06]\n"
     ]
    }
   ],
   "source": [
    "import numpy as np\n",
    "from sklearn.decomposition import PCA\n",
    "\n",
    "random.shuffle(dataset)\n",
    "\n",
    "pca = PCA(n_components=65)\n",
    "pca.fit(X)\n",
    "print(pca.components_[0])"
   ]
  },
  {
   "cell_type": "markdown",
   "metadata": {},
   "source": [
    "### Part 8"
   ]
  },
  {
   "cell_type": "code",
   "execution_count": 150,
   "metadata": {},
   "outputs": [],
   "source": [
    "random.shuffle(dataset)\n",
    "\n",
    "pca = PCA(n_components=65)\n",
    "pca.fit(X)\n",
    "\n",
    "X_train = X[: int(0.5 * len(X))]\n",
    "X_val = X[int(0.5 * len(X)) : int(0.75 * len(X))]\n",
    "X_test = X[int(0.75 * len(X)) :]\n",
    "\n",
    "Xpca_train = np.matmul(X_train, pca.components_.T)\n",
    "Xpca_val = np.matmul(X_val, pca.components_.T)\n",
    "Xpca_test = np.matmul(X_test, pca.components_.T)\n",
    "y_train = y[: int(0.5 * len(y))]\n",
    "\n",
    "y_val = y[int(0.5 * len(y)) : int(0.75 * len(y))]\n",
    "y_test = y[int(0.75 * len(y)) :]\n",
    "\n",
    "components_list = []\n",
    "BER_test = []\n",
    "BER_val = []\n",
    "for n in range(5, 31, 5):\n",
    "    Xpca_train_reduced = [x[:n] for x in Xpca_train]\n",
    "    Xpca_test_reduced = [x[:n] for x in Xpca_test]\n",
    "    Xpca_val_reduced = [x[:n] for x in Xpca_val]\n",
    "    \n",
    "    reg = LogisticRegression(class_weight=\"balanced\", C=1)\n",
    "    reg.fit(Xpca_train_reduced, y_train)\n",
    "    predictions_test = reg.predict(Xpca_test_reduced)\n",
    "    predictions_val = reg.predict(Xpca_val_reduced)\n",
    "\n",
    "    BER_test.append(find_ber(predictions_test, y_test))\n",
    "    BER_val.append(find_ber(predictions_val, y_val))\n",
    "    components_list.append(n)"
   ]
  },
  {
   "cell_type": "code",
   "execution_count": 151,
   "metadata": {},
   "outputs": [],
   "source": [
    "components_ber_df = pd.DataFrame(\n",
    "    list(zip(components_list, BER_test, BER_val)),\n",
    "    columns=[\"N_Components\", \"Test_BER\", \"Val_BER\"],\n",
    ")"
   ]
  },
  {
   "cell_type": "code",
   "execution_count": 152,
   "metadata": {},
   "outputs": [
    {
     "data": {
      "text/plain": [
       "<matplotlib.legend.Legend at 0x7f3508f9de48>"
      ]
     },
     "execution_count": 152,
     "metadata": {},
     "output_type": "execute_result"
    },
    {
     "data": {
      "image/png": "[encoded data removed]",
      "text/plain": [
       "<Figure size 432x288 with 1 Axes>"
      ]
     },
     "metadata": {
      "needs_background": "light"
     },
     "output_type": "display_data"
    }
   ],
   "source": [
    "sns.lineplot(x=\"N_Components\", y=\"Test_BER\", data=components_ber_df, label='Test')\n",
    "sns.lineplot(x=\"N_Components\", y=\"Val_BER\", data=components_ber_df, label='Validation')\n",
    "plt.legend()"
   ]
  },
  {
   "cell_type": "code",
   "execution_count": 153,
   "metadata": {},
   "outputs": [
    {
     "data": {
      "text/html": [
       "<div>\n",
       "<style scoped>\n",
       "    .dataframe tbody tr th:only-of-type {\n",
       "        vertical-align: middle;\n",
       "    }\n",
       "\n",
       "    .dataframe tbody tr th {\n",
       "        vertical-align: top;\n",
       "    }\n",
       "\n",
       "    .dataframe thead th {\n",
       "        text-align: right;\n",
       "    }\n",
       "</style>\n",
       "<table border=\"1\" class=\"dataframe\">\n",
       "  <thead>\n",
       "    <tr style=\"text-align: right;\">\n",
       "      <th></th>\n",
       "      <th>N_Components</th>\n",
       "      <th>Test_BER</th>\n",
       "      <th>Val_BER</th>\n",
       "    </tr>\n",
       "  </thead>\n",
       "  <tbody>\n",
       "    <tr>\n",
       "      <td>0</td>\n",
       "      <td>5</td>\n",
       "      <td>0.356608</td>\n",
       "      <td>0.404697</td>\n",
       "    </tr>\n",
       "    <tr>\n",
       "      <td>1</td>\n",
       "      <td>10</td>\n",
       "      <td>0.453224</td>\n",
       "      <td>0.302832</td>\n",
       "    </tr>\n",
       "    <tr>\n",
       "      <td>2</td>\n",
       "      <td>15</td>\n",
       "      <td>0.354621</td>\n",
       "      <td>0.270685</td>\n",
       "    </tr>\n",
       "    <tr>\n",
       "      <td>3</td>\n",
       "      <td>20</td>\n",
       "      <td>0.364839</td>\n",
       "      <td>0.245959</td>\n",
       "    </tr>\n",
       "    <tr>\n",
       "      <td>4</td>\n",
       "      <td>25</td>\n",
       "      <td>0.266803</td>\n",
       "      <td>0.287100</td>\n",
       "    </tr>\n",
       "    <tr>\n",
       "      <td>5</td>\n",
       "      <td>30</td>\n",
       "      <td>0.306426</td>\n",
       "      <td>0.272002</td>\n",
       "    </tr>\n",
       "  </tbody>\n",
       "</table>\n",
       "</div>"
      ],
      "text/plain": [
       "   N_Components  Test_BER   Val_BER\n",
       "0             5  0.356608  0.404697\n",
       "1            10  0.453224  0.302832\n",
       "2            15  0.354621  0.270685\n",
       "3            20  0.364839  0.245959\n",
       "4            25  0.266803  0.287100\n",
       "5            30  0.306426  0.272002"
      ]
     },
     "execution_count": 153,
     "metadata": {},
     "output_type": "execute_result"
    }
   ],
   "source": [
    "components_ber_df"
   ]
  },
  {
   "cell_type": "code",
   "execution_count": 154,
   "metadata": {},
   "outputs": [
    {
     "data": {
      "text/html": [
       "<div>\n",
       "<style scoped>\n",
       "    .dataframe tbody tr th:only-of-type {\n",
       "        vertical-align: middle;\n",
       "    }\n",
       "\n",
       "    .dataframe tbody tr th {\n",
       "        vertical-align: top;\n",
       "    }\n",
       "\n",
       "    .dataframe thead th {\n",
       "        text-align: right;\n",
       "    }\n",
       "</style>\n",
       "<table border=\"1\" class=\"dataframe\">\n",
       "  <thead>\n",
       "    <tr style=\"text-align: right;\">\n",
       "      <th></th>\n",
       "      <th>N_Components</th>\n",
       "      <th>Test_BER</th>\n",
       "      <th>Val_BER</th>\n",
       "    </tr>\n",
       "  </thead>\n",
       "  <tbody>\n",
       "    <tr>\n",
       "      <td>3</td>\n",
       "      <td>20</td>\n",
       "      <td>0.364839</td>\n",
       "      <td>0.245959</td>\n",
       "    </tr>\n",
       "  </tbody>\n",
       "</table>\n",
       "</div>"
      ],
      "text/plain": [
       "   N_Components  Test_BER   Val_BER\n",
       "3            20  0.364839  0.245959"
      ]
     },
     "execution_count": 154,
     "metadata": {},
     "output_type": "execute_result"
    }
   ],
   "source": [
    "components_ber_df[components_ber_df.Val_BER == components_ber_df.Val_BER.min()]"
   ]
  },
  {
   "cell_type": "markdown",
   "metadata": {},
   "source": [
    "For number of components in range 5 - 30, it seems that 20 components gives us the minimum validation BER. Since the PCA algorithm is not able to read our features, it is hard to draw valuable conclusions about the \"usefulness\" of the lables themselves. However, from this result, we can draw the conclusion that using 30 dimensions gave us an optimal result. "
   ]
  }
 ],
 "metadata": {
  "kernelspec": {
   "display_name": "Python 3",
   "language": "python",
   "name": "python3"
  },
  "language_info": {
   "codemirror_mode": {
    "name": "ipython",
    "version": 3
   },
   "file_extension": ".py",
   "mimetype": "text/x-python",
   "name": "python",
   "nbconvert_exporter": "python",
   "pygments_lexer": "ipython3",
   "version": "3.6.8"
  }
 },
 "nbformat": 4,
 "nbformat_minor": 4
}
